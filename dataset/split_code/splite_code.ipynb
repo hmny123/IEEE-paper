{
 "cells": [
  {
   "cell_type": "code",
   "execution_count": null,
   "id": "c753546b",
   "metadata": {},
   "outputs": [],
   "source": [
    "Copyright © 2023 hmny123. All rights reserved."
   ]
  },
  {
   "cell_type": "code",
   "execution_count": 6,
   "id": "6ecef047",
   "metadata": {},
   "outputs": [],
   "source": [
    "import os\n",
    "import os.path\n",
    "import shutil\n",
    "import random\n",
    "import pandas as pd"
   ]
  },
  {
   "cell_type": "code",
   "execution_count": 7,
   "id": "91645711",
   "metadata": {
    "scrolled": true
   },
   "outputs": [
    {
     "name": "stdout",
     "output_type": "stream",
     "text": [
      "数据集 F:\\jupyterNotebook\\code\\lungImageSets\n"
     ]
    },
    {
     "data": {
      "text/plain": [
       "3"
      ]
     },
     "execution_count": 7,
     "metadata": {},
     "output_type": "execute_result"
    }
   ],
   "source": [
    "# 指定数据集路径\n",
    "dataset_path = 'F:\\\\jupyterNotebook\\\\code\\\\lungImageSets'\n",
    "dataset_name = dataset_path.split('_')[0]\n",
    "print('数据集', dataset_name)\n",
    "classes = os.listdir(dataset_path)\n",
    "len(classes)"
   ]
  },
  {
   "cell_type": "code",
   "execution_count": 8,
   "id": "a38d6e26",
   "metadata": {},
   "outputs": [
    {
     "name": "stdout",
     "output_type": "stream",
     "text": [
      "        类别              训练集数据个数            测试集数据个数      \n",
      "     lung_aca             4000               1000       \n",
      "      lung_n              4000               1000       \n",
      "     lung_scc             4000               1000       \n"
     ]
    },
    {
     "data": {
      "text/plain": [
       "'F:\\\\jupyterNotebook\\\\code\\\\lungImageSets1_split'"
      ]
     },
     "execution_count": 8,
     "metadata": {},
     "output_type": "execute_result"
    }
   ],
   "source": [
    "#类别名称\n",
    "classes\n",
    "\n",
    "# 创建 train 文件夹\n",
    "os.mkdir(os.path.join(dataset_path, 'train'))\n",
    "\n",
    "# 创建 test 文件夹\n",
    "os.mkdir(os.path.join(dataset_path, 'test'))\n",
    "\n",
    "# 在 train 和 test 文件夹中创建各类别子文件夹\n",
    "for fruit in classes:\n",
    "    os.mkdir(os.path.join(dataset_path, 'train', fruit))\n",
    "    os.mkdir(os.path.join(dataset_path, 'test', fruit))\n",
    "    \n",
    "\n",
    "base_count = 1 # 选取样本的比例\n",
    "test_frac = 0.2  # 测试集比例\n",
    "random.seed(123) # 随机数种子，便于复现\n",
    "\n",
    "df = pd.DataFrame()\n",
    "\n",
    "print('{:^18} {:^18} {:^18}'.format('类别', '训练集数据个数', '测试集数据个数'))\n",
    "\n",
    "for fruit in classes: # 遍历每个类别\n",
    "\n",
    "    # 读取该类别的所有图像文件名\n",
    "    old_dir = os.path.join(dataset_path, fruit)\n",
    "    images_filename = os.listdir(old_dir)\n",
    "    random.shuffle(images_filename) # 随机打乱\n",
    "\n",
    "    # 划分训练集和测试集\n",
    "    testset_numer = int(len(images_filename) * test_frac * base_count) # 测试集图像个数\n",
    "    trainset_numer = int(len(images_filename) * base_count) # 测试集图像个数\n",
    "    /# print('{:^18} {:^18} '.format(testset_numer, trainset_numer))\n",
    "    testset_images = images_filename[:testset_numer]      # 获取拟移动至 test 目录的测试集图像文件名\n",
    "    trainset_images = images_filename[testset_numer:trainset_numer]     # 获取拟移动至 train 目录的训练集图像文件名\n",
    "\n",
    "    # 移动图像至 test 目录\n",
    "    for image in testset_images:\n",
    "        old_img_path = os.path.join(dataset_path, fruit, image)         # 获取原始文件路径\n",
    "        new_test_path = os.path.join(dataset_path, 'test', fruit, image) # 获取 test 目录的新文件路径\n",
    "        shutil.move(old_img_path, new_test_path) # 移动文件\n",
    "\n",
    "    # 移动图像至 train 目录\n",
    "    for image in trainset_images:\n",
    "        old_img_path = os.path.join(dataset_path, fruit, image)           # 获取原始文件路径\n",
    "        new_train_path = os.path.join(dataset_path, 'train', fruit, image) # 获取 train 目录的新文件路径\n",
    "        shutil.move(old_img_path, new_train_path) # 移动文件\n",
    "    \n",
    "    # 删除旧文件夹\n",
    "    # assert len(os.listdir(old_dir)) == 0 # 确保旧文件夹中的所有图像都被移动走\n",
    "    shutil.rmtree(old_dir) # 删除文件夹\n",
    "    \n",
    "    # 工整地输出每一类别的数据个数\n",
    "    print('{:^18} {:^18} {:^18}'.format(fruit, len(trainset_images), len(testset_images)))\n",
    "\n",
    "# 重命名数据集文件夹\n",
    "shutil.move(dataset_path, dataset_name+str(base_count)+'_split')"
   ]
  },
  {
   "cell_type": "code",
   "execution_count": null,
   "id": "d39355a6",
   "metadata": {},
   "outputs": [],
   "source": []
  },
  {
   "cell_type": "code",
   "execution_count": null,
   "id": "d1f60fed",
   "metadata": {},
   "outputs": [],
   "source": []
  }
 ],
 "metadata": {
  "kernelspec": {
   "display_name": "Python 3 (ipykernel)",
   "language": "python",
   "name": "python3"
  },
  "language_info": {
   "codemirror_mode": {
    "name": "ipython",
    "version": 3
   },
   "file_extension": ".py",
   "mimetype": "text/x-python",
   "name": "python",
   "nbconvert_exporter": "python",
   "pygments_lexer": "ipython3",
   "version": "3.10.9"
  }
 },
 "nbformat": 4,
 "nbformat_minor": 5
}
