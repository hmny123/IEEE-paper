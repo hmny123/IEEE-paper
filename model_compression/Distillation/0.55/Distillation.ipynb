{
 "cells": [
  {
   "cell_type": "code",
   "execution_count": null,
   "id": "9bc77838",
   "metadata": {},
   "outputs": [],
   "source": [
    "Copyright © 2023 hmny123. All rights reserved."
   ]
  },
  {
   "cell_type": "code",
   "execution_count": 1,
   "id": "e18af656",
   "metadata": {},
   "outputs": [
    {
     "name": "stdout",
     "output_type": "stream",
     "text": [
      "device cuda:0\n"
     ]
    }
   ],
   "source": [
    "# 导入工具包\n",
    "import time\n",
    "import os\n",
    "from tqdm import tqdm\n",
    "\n",
    "import pandas as pd\n",
    "import numpy as np\n",
    "\n",
    "import torch\n",
    "import torchvision\n",
    "import torch.nn as nn\n",
    "import torch.nn.functional as F\n",
    "\n",
    "import matplotlib.pyplot as plt\n",
    "%matplotlib inline\n",
    "\n",
    "# 忽略烦人的红色提示\n",
    "import warnings\n",
    "warnings.filterwarnings(\"ignore\")\n",
    "\n",
    "# 获取计算硬件\n",
    "# 有 GPU 就用 GPU，没有就用 CPU\n",
    "device = torch.device('cuda:0' if torch.cuda.is_available() else 'cpu')\n",
    "print('device', device) "
   ]
  },
  {
   "cell_type": "code",
   "execution_count": 2,
   "id": "a152eae4",
   "metadata": {},
   "outputs": [],
   "source": [
    "#图像预处理\n",
    "from torchvision import transforms\n",
    "\n",
    "# 训练集图像预处理：缩放裁剪、图像增强、转 Tensor、归一化\n",
    "train_transform = transforms.Compose([transforms.RandomResizedCrop(224),\n",
    "                                      transforms.RandomHorizontalFlip(),\n",
    "                                      transforms.ToTensor(),\n",
    "                                      transforms.Normalize([0.485, 0.456, 0.406], [0.229, 0.224, 0.225])\n",
    "                                     ])\n",
    "\n",
    "# 测试集图像预处理-RCTN：缩放、裁剪、转 Tensor、归一化\n",
    "test_transform = transforms.Compose([transforms.Resize(256),\n",
    "                                     transforms.CenterCrop(224),\n",
    "                                     transforms.ToTensor(),\n",
    "                                     transforms.Normalize(\n",
    "                                         mean=[0.485, 0.456, 0.406], \n",
    "                                         std=[0.229, 0.224, 0.225])\n",
    "                                    ])"
   ]
  },
  {
   "cell_type": "code",
   "execution_count": 3,
   "id": "1d0b585d",
   "metadata": {},
   "outputs": [
    {
     "name": "stdout",
     "output_type": "stream",
     "text": [
      "训练集路径 ../../data/lungImageSet_split/train\n",
      "测试集路径 ../../data/lungImageSet_split/test\n",
      "训练集图像数量 12000\n",
      "类别个数 3\n",
      "各类别名称 ['lung_aca', 'lung_n', 'lung_scc']\n",
      "测试集图像数量 3000\n",
      "类别个数 3\n",
      "各类别名称 ['lung_aca', 'lung_n', 'lung_scc']\n"
     ]
    }
   ],
   "source": [
    "# 数据集文件夹路径\n",
    "dataset_dir = '../../data/lungImageSet_split'\n",
    "train_path = os.path.join(dataset_dir, 'train')\n",
    "test_path = os.path.join(dataset_dir, 'test')\n",
    "print('训练集路径', train_path)\n",
    "print('测试集路径', test_path)\n",
    "\n",
    "from torchvision import datasets\n",
    "# 载入训练集\n",
    "train_dataset = datasets.ImageFolder(train_path, train_transform)\n",
    "# 载入测试集\n",
    "test_dataset = datasets.ImageFolder(test_path, test_transform)\n",
    "\n",
    "print('训练集图像数量', len(train_dataset))\n",
    "print('类别个数', len(train_dataset.classes))\n",
    "print('各类别名称', train_dataset.classes)\n",
    "print('测试集图像数量', len(test_dataset))\n",
    "print('类别个数', len(test_dataset.classes))\n",
    "print('各类别名称', test_dataset.classes)\n",
    "\n",
    "# 各类别名称\n",
    "class_names = train_dataset.classes\n",
    "n_class = len(class_names)\n",
    "# 映射关系：类别 到 索引号\n",
    "train_dataset.class_to_idx\n",
    "# 映射关系：索引号 到 类别\n",
    "idx_to_labels = {y:x for x,y in train_dataset.class_to_idx.items()}\n",
    "\n",
    "idx_to_labels\n",
    "\n",
    "#定义数据加载器\n",
    "from torch.utils.data import DataLoader\n",
    "\n",
    "BATCH_SIZE = 64\n",
    "epoch = 0\n",
    "\n",
    "# 训练集的数据加载器\n",
    "train_loader = DataLoader(train_dataset,\n",
    "                          batch_size=BATCH_SIZE,\n",
    "                          shuffle=True,\n",
    "                          num_workers=4\n",
    "                         )\n",
    "\n",
    "# 测试集的数据加载器\n",
    "test_loader = DataLoader(test_dataset,\n",
    "                         batch_size=BATCH_SIZE,\n",
    "                         shuffle=False,\n",
    "                         num_workers=4\n",
    "                        )"
   ]
  },
  {
   "cell_type": "code",
   "execution_count": 4,
   "id": "66cc69fa",
   "metadata": {},
   "outputs": [],
   "source": [
    "# 导入训练所需工具包\n",
    "from torchvision import models\n",
    "import torch.optim as optim\n",
    "from torch.optim import lr_scheduler\n",
    "\n",
    "from sklearn.metrics import precision_score\n",
    "from sklearn.metrics import recall_score\n",
    "from sklearn.metrics import accuracy_score\n",
    "from sklearn.metrics import f1_score\n",
    "from sklearn.metrics import roc_auc_score\n",
    "\n",
    "def evaluate_testset(model):\n",
    "    # 在整个测试集上评估，返回分类评估指标日志\n",
    "    \n",
    "    # 交叉熵损失函数\n",
    "    criterion = nn.CrossEntropyLoss() \n",
    "    loss_list = []\n",
    "    labels_list = []\n",
    "    preds_list = []\n",
    "    \n",
    "    with torch.no_grad():\n",
    "        for images, labels in test_loader: # 生成一个 batch 的数据和标注\n",
    "            images = images.to(device)\n",
    "            labels = labels.to(device)\n",
    "            outputs = model(images) # 输入模型，执行前向预测\n",
    "            # outputs = outputs.logits\n",
    "            # 获取整个测试集的标签类别和预测类别\n",
    "            _, preds = torch.max(outputs, 1) # 获得当前 batch 所有图像的预测类别\n",
    "            preds = preds.cpu().numpy()\n",
    "            loss = criterion(outputs, labels) # 由 logit，计算当前 batch 中，每个样本的平均交叉熵损失函数值\n",
    "            loss = loss.detach().cpu().numpy()\n",
    "            outputs = outputs.detach().cpu().numpy()\n",
    "            labels = labels.detach().cpu().numpy()\n",
    "\n",
    "            loss_list.append(loss)\n",
    "            labels_list.extend(labels)\n",
    "            preds_list.extend(preds)\n",
    "        \n",
    "    log_test = {}\n",
    "    log_test['epoch'] = epoch\n",
    "    # 计算分类评估指标\n",
    "    log_test['test_loss'] = np.mean(loss)\n",
    "    log_test['test_accuracy'] = accuracy_score(labels_list, preds_list)\n",
    "    log_test['test_precision'] = precision_score(labels_list, preds_list, average='macro')\n",
    "    log_test['test_recall'] = recall_score(labels_list, preds_list, average='macro')\n",
    "    log_test['test_f1-score'] = f1_score(labels_list, preds_list, average='macro')\n",
    "    \n",
    "    return log_test"
   ]
  },
  {
   "cell_type": "code",
   "execution_count": 5,
   "id": "60259f0f",
   "metadata": {},
   "outputs": [
    {
     "name": "stdout",
     "output_type": "stream",
     "text": [
      "{'epoch': 0, 'test_loss': 0.0009464224, 'test_accuracy': 0.9993333333333333, 'test_precision': 0.9993346640053226, 'test_recall': 0.9993333333333334, 'test_f1-score': 0.9993333326666659}\n"
     ]
    }
   ],
   "source": [
    "# 载入最佳模型作为当前模型\n",
    "teacher_model = torch.load('./fine_tuned_pruned_resnet50-0.999.pth')\n",
    "teacher_model.eval()\n",
    "print(evaluate_testset(teacher_model))"
   ]
  },
  {
   "cell_type": "code",
   "execution_count": 6,
   "id": "78346ab4",
   "metadata": {},
   "outputs": [],
   "source": [
    "# 导入训练所需工具包\n",
    "from torchvision import models\n",
    "import torch.optim as optim\n",
    "from torch.optim import lr_scheduler\n",
    "\n",
    "student_model = models.resnet18(pretrained=False, num_classes=n_class)\n",
    "student_model = student_model.to(device)"
   ]
  },
  {
   "cell_type": "code",
   "execution_count": 7,
   "id": "fa6b8b90",
   "metadata": {},
   "outputs": [],
   "source": [
    "# 定义蒸馏损失函数\n",
    "def distillation_loss(student_outputs, teacher_outputs, labels, temperature=1, alpha=0.5):\n",
    "    hard_loss = F.cross_entropy(student_outputs, labels) * (1 - alpha)\n",
    "    soft_loss = nn.KLDivLoss(reduction='batchmean')(F.log_softmax(student_outputs / temperature, dim=1),\n",
    "                                                     F.softmax(teacher_outputs / temperature, dim=1)) * (alpha * temperature * temperature)\n",
    "    return hard_loss + soft_loss"
   ]
  },
  {
   "cell_type": "code",
   "execution_count": 8,
   "id": "d6047c57",
   "metadata": {},
   "outputs": [],
   "source": [
    "# 优化器和学习率调度器\n",
    "optimizer = optim.Adam(student_model.parameters(), lr=0.01)\n",
    "lr_scheduler = lr_scheduler.StepLR(optimizer, step_size=5, gamma=0.5)\n",
    "\n",
    "# 训练轮次\n",
    "EPOCHS = 50\n",
    "\n",
    "# 学生模型训练\n",
    "teacher_model.eval()\n",
    "best_test_accuracy = 0\n",
    "best_test_loss = 10000"
   ]
  },
  {
   "cell_type": "code",
   "execution_count": 9,
   "id": "4030f1a4-3ee6-4443-836d-4ddc0576d8bf",
   "metadata": {},
   "outputs": [],
   "source": [
    "# pip install wandb"
   ]
  },
  {
   "cell_type": "code",
   "execution_count": 10,
   "id": "0f4a33d8-3481-4bcb-9909-a099f083e11c",
   "metadata": {},
   "outputs": [
    {
     "name": "stderr",
     "output_type": "stream",
     "text": [
      "Failed to detect the name of this notebook, you can set it manually with the WANDB_NOTEBOOK_NAME environment variable to enable code saving.\n",
      "\u001b[34m\u001b[1mwandb\u001b[0m: Currently logged in as: \u001b[33mjyjy2001lfx\u001b[0m (\u001b[33mjnjy\u001b[0m). Use \u001b[1m`wandb login --relogin`\u001b[0m to force relogin\n"
     ]
    },
    {
     "data": {
      "text/html": [
       "Tracking run with wandb version 0.15.1"
      ],
      "text/plain": [
       "<IPython.core.display.HTML object>"
      ]
     },
     "metadata": {},
     "output_type": "display_data"
    },
    {
     "data": {
      "text/html": [
       "Run data is saved locally in <code>/home/featurize/work/Distillation/wandb/run-20230504_191658-ih99vptb</code>"
      ],
      "text/plain": [
       "<IPython.core.display.HTML object>"
      ]
     },
     "metadata": {},
     "output_type": "display_data"
    },
    {
     "data": {
      "text/html": [
       "Syncing run <strong><a href='https://wandb.ai/jnjy/lung%20cancer/runs/ih99vptb' target=\"_blank\">0504191656</a></strong> to <a href='https://wandb.ai/jnjy/lung%20cancer' target=\"_blank\">Weights & Biases</a> (<a href='https://wandb.me/run' target=\"_blank\">docs</a>)<br/>"
      ],
      "text/plain": [
       "<IPython.core.display.HTML object>"
      ]
     },
     "metadata": {},
     "output_type": "display_data"
    },
    {
     "data": {
      "text/html": [
       " View project at <a href='https://wandb.ai/jnjy/lung%20cancer' target=\"_blank\">https://wandb.ai/jnjy/lung%20cancer</a>"
      ],
      "text/plain": [
       "<IPython.core.display.HTML object>"
      ]
     },
     "metadata": {},
     "output_type": "display_data"
    },
    {
     "data": {
      "text/html": [
       " View run at <a href='https://wandb.ai/jnjy/lung%20cancer/runs/ih99vptb' target=\"_blank\">https://wandb.ai/jnjy/lung%20cancer/runs/ih99vptb</a>"
      ],
      "text/plain": [
       "<IPython.core.display.HTML object>"
      ]
     },
     "metadata": {},
     "output_type": "display_data"
    },
    {
     "data": {
      "text/html": [
       "<button onClick=\"this.nextSibling.style.display='block';this.style.display='none';\">Display W&B run</button><iframe src='https://wandb.ai/jnjy/lung%20cancer/runs/ih99vptb?jupyter=true' style='border:none;width:100%;height:420px;display:none;'></iframe>"
      ],
      "text/plain": [
       "<wandb.sdk.wandb_run.Run at 0x7fe100578d50>"
      ]
     },
     "execution_count": 10,
     "metadata": {},
     "output_type": "execute_result"
    }
   ],
   "source": [
    "import wandb\n",
    "\n",
    "wandb.init(project='lung cancer', name=time.strftime('%m%d%H%M%S'))"
   ]
  },
  {
   "cell_type": "code",
   "execution_count": 11,
   "id": "3ddabddd-9e6e-4f7a-95cb-5656c68218da",
   "metadata": {},
   "outputs": [],
   "source": [
    "# 训练日志-测试集\n",
    "df_test_log = pd.DataFrame()\n",
    "log_test = {}\n",
    "log_test['epoch'] = 0\n",
    "log_test.update(evaluate_testset(student_model))\n",
    "df_test_log = df_test_log.append(log_test, ignore_index=True)"
   ]
  },
  {
   "cell_type": "code",
   "execution_count": 12,
   "id": "6441d917",
   "metadata": {},
   "outputs": [
    {
     "name": "stdout",
     "output_type": "stream",
     "text": [
      "Epoch 1/50\n"
     ]
    },
    {
     "name": "stderr",
     "output_type": "stream",
     "text": [
      "100%|██████████| 188/188 [00:32<00:00,  5.84it/s]\n"
     ]
    },
    {
     "name": "stdout",
     "output_type": "stream",
     "text": [
      "{'epoch': 1, 'test_loss': 0.1586306, 'test_accuracy': 0.8886666666666667, 'test_precision': 0.8970096427359796, 'test_recall': 0.8886666666666666, 'test_f1-score': 0.8882016871120987}\n",
      "保存新的最佳模型 ./best_student_model.pth\n",
      "Epoch 2/50\n"
     ]
    },
    {
     "name": "stderr",
     "output_type": "stream",
     "text": [
      "100%|██████████| 188/188 [00:32<00:00,  5.75it/s]\n"
     ]
    },
    {
     "name": "stdout",
     "output_type": "stream",
     "text": [
      "{'epoch': 2, 'test_loss': 1.8190833, 'test_accuracy': 0.824, 'test_precision': 0.8443207159935779, 'test_recall': 0.824, 'test_f1-score': 0.8195823261761827}\n",
      "Epoch 3/50\n"
     ]
    },
    {
     "name": "stderr",
     "output_type": "stream",
     "text": [
      "100%|██████████| 188/188 [00:33<00:00,  5.67it/s]\n"
     ]
    },
    {
     "name": "stdout",
     "output_type": "stream",
     "text": [
      "{'epoch': 3, 'test_loss': 0.505311, 'test_accuracy': 0.9163333333333333, 'test_precision': 0.923947000068304, 'test_recall': 0.9163333333333332, 'test_f1-score': 0.9170452925123856}\n",
      "Epoch 4/50\n"
     ]
    },
    {
     "name": "stderr",
     "output_type": "stream",
     "text": [
      "100%|██████████| 188/188 [00:32<00:00,  5.80it/s]\n"
     ]
    },
    {
     "name": "stdout",
     "output_type": "stream",
     "text": [
      "{'epoch': 4, 'test_loss': 0.740941, 'test_accuracy': 0.9153333333333333, 'test_precision': 0.9280665170530278, 'test_recall': 0.9153333333333333, 'test_f1-score': 0.9142903693619062}\n",
      "Epoch 5/50\n"
     ]
    },
    {
     "name": "stderr",
     "output_type": "stream",
     "text": [
      "100%|██████████| 188/188 [00:32<00:00,  5.83it/s]\n"
     ]
    },
    {
     "name": "stdout",
     "output_type": "stream",
     "text": [
      "{'epoch': 5, 'test_loss': 0.2808413, 'test_accuracy': 0.944, 'test_precision': 0.9450528689596315, 'test_recall': 0.944, 'test_f1-score': 0.9437569603797792}\n",
      "Epoch 6/50\n"
     ]
    },
    {
     "name": "stderr",
     "output_type": "stream",
     "text": [
      "100%|██████████| 188/188 [00:31<00:00,  5.92it/s]\n"
     ]
    },
    {
     "name": "stdout",
     "output_type": "stream",
     "text": [
      "{'epoch': 6, 'test_loss': 0.13295074, 'test_accuracy': 0.9543333333333334, 'test_precision': 0.9555835365017574, 'test_recall': 0.9543333333333334, 'test_f1-score': 0.9542903433109234}\n",
      "保存新的最佳模型 ./best_student_model.pth\n",
      "Epoch 7/50\n"
     ]
    },
    {
     "name": "stderr",
     "output_type": "stream",
     "text": [
      "100%|██████████| 188/188 [00:32<00:00,  5.81it/s]\n"
     ]
    },
    {
     "name": "stdout",
     "output_type": "stream",
     "text": [
      "{'epoch': 7, 'test_loss': 0.2547789, 'test_accuracy': 0.956, 'test_precision': 0.9560547581535334, 'test_recall': 0.956, 'test_f1-score': 0.955861794116699}\n",
      "Epoch 8/50\n"
     ]
    },
    {
     "name": "stderr",
     "output_type": "stream",
     "text": [
      "100%|██████████| 188/188 [00:31<00:00,  5.91it/s]\n"
     ]
    },
    {
     "name": "stdout",
     "output_type": "stream",
     "text": [
      "{'epoch': 8, 'test_loss': 0.12917815, 'test_accuracy': 0.9706666666666667, 'test_precision': 0.9707427798705689, 'test_recall': 0.9706666666666667, 'test_f1-score': 0.970671133338833}\n",
      "保存新的最佳模型 ./best_student_model.pth\n",
      "Epoch 9/50\n"
     ]
    },
    {
     "name": "stderr",
     "output_type": "stream",
     "text": [
      "100%|██████████| 188/188 [00:32<00:00,  5.85it/s]\n"
     ]
    },
    {
     "name": "stdout",
     "output_type": "stream",
     "text": [
      "{'epoch': 9, 'test_loss': 0.40856186, 'test_accuracy': 0.9533333333333334, 'test_precision': 0.955925038325525, 'test_recall': 0.9533333333333335, 'test_f1-score': 0.9532354102149672}\n",
      "Epoch 10/50\n"
     ]
    },
    {
     "name": "stderr",
     "output_type": "stream",
     "text": [
      "100%|██████████| 188/188 [00:32<00:00,  5.84it/s]\n"
     ]
    },
    {
     "name": "stdout",
     "output_type": "stream",
     "text": [
      "{'epoch': 10, 'test_loss': 0.08644632, 'test_accuracy': 0.9386666666666666, 'test_precision': 0.9424057485714811, 'test_recall': 0.9386666666666666, 'test_f1-score': 0.9385579308733507}\n",
      "Epoch 11/50\n"
     ]
    },
    {
     "name": "stderr",
     "output_type": "stream",
     "text": [
      "100%|██████████| 188/188 [00:32<00:00,  5.86it/s]\n"
     ]
    },
    {
     "name": "stdout",
     "output_type": "stream",
     "text": [
      "{'epoch': 11, 'test_loss': 0.07912902, 'test_accuracy': 0.9673333333333334, 'test_precision': 0.9679708930764163, 'test_recall': 0.9673333333333334, 'test_f1-score': 0.9673160435203556}\n",
      "Epoch 12/50\n"
     ]
    },
    {
     "name": "stderr",
     "output_type": "stream",
     "text": [
      "100%|██████████| 188/188 [00:31<00:00,  5.92it/s]\n"
     ]
    },
    {
     "name": "stdout",
     "output_type": "stream",
     "text": [
      "{'epoch': 12, 'test_loss': 0.14184399, 'test_accuracy': 0.9666666666666667, 'test_precision': 0.9667254781937259, 'test_recall': 0.9666666666666667, 'test_f1-score': 0.966665033253296}\n",
      "Epoch 13/50\n"
     ]
    },
    {
     "name": "stderr",
     "output_type": "stream",
     "text": [
      "100%|██████████| 188/188 [00:32<00:00,  5.87it/s]\n"
     ]
    },
    {
     "name": "stdout",
     "output_type": "stream",
     "text": [
      "{'epoch': 13, 'test_loss': 0.1304008, 'test_accuracy': 0.9736666666666667, 'test_precision': 0.9736228574136722, 'test_recall': 0.9736666666666666, 'test_f1-score': 0.9736426325447584}\n",
      "Epoch 14/50\n"
     ]
    },
    {
     "name": "stderr",
     "output_type": "stream",
     "text": [
      "100%|██████████| 188/188 [00:31<00:00,  5.96it/s]\n"
     ]
    },
    {
     "name": "stdout",
     "output_type": "stream",
     "text": [
      "{'epoch': 14, 'test_loss': 0.04337282, 'test_accuracy': 0.95, 'test_precision': 0.9547194569154359, 'test_recall': 0.9500000000000001, 'test_f1-score': 0.9497943576890946}\n",
      "Epoch 15/50\n"
     ]
    },
    {
     "name": "stderr",
     "output_type": "stream",
     "text": [
      "100%|██████████| 188/188 [00:31<00:00,  5.95it/s]\n"
     ]
    },
    {
     "name": "stdout",
     "output_type": "stream",
     "text": [
      "{'epoch': 15, 'test_loss': 0.13439687, 'test_accuracy': 0.982, 'test_precision': 0.9820113524086866, 'test_recall': 0.9819999999999999, 'test_f1-score': 0.9819998379985418}\n",
      "Epoch 16/50\n"
     ]
    },
    {
     "name": "stderr",
     "output_type": "stream",
     "text": [
      "100%|██████████| 188/188 [00:31<00:00,  5.97it/s]\n"
     ]
    },
    {
     "name": "stdout",
     "output_type": "stream",
     "text": [
      "{'epoch': 16, 'test_loss': 0.05867955, 'test_accuracy': 0.9866666666666667, 'test_precision': 0.9867127533031423, 'test_recall': 0.9866666666666667, 'test_f1-score': 0.9866661866493861}\n",
      "保存新的最佳模型 ./best_student_model.pth\n",
      "Epoch 17/50\n"
     ]
    },
    {
     "name": "stderr",
     "output_type": "stream",
     "text": [
      "100%|██████████| 188/188 [00:32<00:00,  5.84it/s]\n"
     ]
    },
    {
     "name": "stdout",
     "output_type": "stream",
     "text": [
      "{'epoch': 17, 'test_loss': 0.09501874, 'test_accuracy': 0.9773333333333334, 'test_precision': 0.9776517820915284, 'test_recall': 0.9773333333333333, 'test_f1-score': 0.9773275291808036}\n",
      "Epoch 18/50\n"
     ]
    },
    {
     "name": "stderr",
     "output_type": "stream",
     "text": [
      "100%|██████████| 188/188 [00:32<00:00,  5.83it/s]\n"
     ]
    },
    {
     "name": "stdout",
     "output_type": "stream",
     "text": [
      "{'epoch': 18, 'test_loss': 0.034071967, 'test_accuracy': 0.9916666666666667, 'test_precision': 0.9916695916929918, 'test_recall': 0.9916666666666667, 'test_f1-score': 0.9916666479166244}\n",
      "保存新的最佳模型 ./best_student_model.pth\n",
      "Epoch 19/50\n"
     ]
    },
    {
     "name": "stderr",
     "output_type": "stream",
     "text": [
      "100%|██████████| 188/188 [00:32<00:00,  5.76it/s]\n"
     ]
    },
    {
     "name": "stdout",
     "output_type": "stream",
     "text": [
      "{'epoch': 19, 'test_loss': 0.04861239, 'test_accuracy': 0.9776666666666667, 'test_precision': 0.9782977195487529, 'test_recall': 0.9776666666666666, 'test_f1-score': 0.9776553546899783}\n",
      "Epoch 20/50\n"
     ]
    },
    {
     "name": "stderr",
     "output_type": "stream",
     "text": [
      "100%|██████████| 188/188 [00:32<00:00,  5.85it/s]\n"
     ]
    },
    {
     "name": "stdout",
     "output_type": "stream",
     "text": [
      "{'epoch': 20, 'test_loss': 0.05545298, 'test_accuracy': 0.985, 'test_precision': 0.9851990827600584, 'test_recall': 0.985, 'test_f1-score': 0.9849976558837318}\n",
      "Epoch 21/50\n"
     ]
    },
    {
     "name": "stderr",
     "output_type": "stream",
     "text": [
      "100%|██████████| 188/188 [00:32<00:00,  5.76it/s]\n"
     ]
    },
    {
     "name": "stdout",
     "output_type": "stream",
     "text": [
      "{'epoch': 21, 'test_loss': 0.05317388, 'test_accuracy': 0.9946666666666667, 'test_precision': 0.994750656167979, 'test_recall': 0.9946666666666667, 'test_f1-score': 0.9946663253114867}\n",
      "Epoch 22/50\n"
     ]
    },
    {
     "name": "stderr",
     "output_type": "stream",
     "text": [
      "100%|██████████| 188/188 [00:32<00:00,  5.80it/s]\n"
     ]
    },
    {
     "name": "stdout",
     "output_type": "stream",
     "text": [
      "{'epoch': 22, 'test_loss': 0.099305525, 'test_accuracy': 0.9843333333333333, 'test_precision': 0.9845650812775847, 'test_recall': 0.9843333333333333, 'test_f1-score': 0.9843304775628691}\n",
      "Epoch 23/50\n"
     ]
    },
    {
     "name": "stderr",
     "output_type": "stream",
     "text": [
      "100%|██████████| 188/188 [00:32<00:00,  5.74it/s]\n"
     ]
    },
    {
     "name": "stdout",
     "output_type": "stream",
     "text": [
      "{'epoch': 23, 'test_loss': 0.034530483, 'test_accuracy': 0.9936666666666667, 'test_precision': 0.9936748418710467, 'test_recall': 0.9936666666666666, 'test_f1-score': 0.993666627083086}\n",
      "Epoch 24/50\n"
     ]
    },
    {
     "name": "stderr",
     "output_type": "stream",
     "text": [
      "100%|██████████| 188/188 [00:32<00:00,  5.77it/s]\n"
     ]
    },
    {
     "name": "stdout",
     "output_type": "stream",
     "text": [
      "{'epoch': 24, 'test_loss': 0.031938292, 'test_accuracy': 0.996, 'test_precision': 0.996005269417644, 'test_recall': 0.996, 'test_f1-score': 0.9959999839999361}\n",
      "保存新的最佳模型 ./best_student_model.pth\n",
      "Epoch 25/50\n"
     ]
    },
    {
     "name": "stderr",
     "output_type": "stream",
     "text": [
      "100%|██████████| 188/188 [00:31<00:00,  5.89it/s]\n"
     ]
    },
    {
     "name": "stdout",
     "output_type": "stream",
     "text": [
      "{'epoch': 25, 'test_loss': 0.02752103, 'test_accuracy': 0.9936666666666667, 'test_precision': 0.9936826904518322, 'test_recall': 0.9936666666666666, 'test_f1-score': 0.993666589082383}\n",
      "Epoch 26/50\n"
     ]
    },
    {
     "name": "stderr",
     "output_type": "stream",
     "text": [
      "100%|██████████| 188/188 [00:33<00:00,  5.68it/s]\n"
     ]
    },
    {
     "name": "stdout",
     "output_type": "stream",
     "text": [
      "{'epoch': 26, 'test_loss': 0.039939255, 'test_accuracy': 0.9926666666666667, 'test_precision': 0.9926718827501239, 'test_recall': 0.9926666666666667, 'test_f1-score': 0.9926666373332159}\n",
      "Epoch 27/50\n"
     ]
    },
    {
     "name": "stderr",
     "output_type": "stream",
     "text": [
      "100%|██████████| 188/188 [00:33<00:00,  5.63it/s]\n"
     ]
    },
    {
     "name": "stdout",
     "output_type": "stream",
     "text": [
      "{'epoch': 27, 'test_loss': 0.023679616, 'test_accuracy': 0.9966666666666667, 'test_precision': 0.9966666666666667, 'test_recall': 0.9966666666666667, 'test_f1-score': 0.9966666666666667}\n",
      "保存新的最佳模型 ./best_student_model.pth\n",
      "Epoch 28/50\n"
     ]
    },
    {
     "name": "stderr",
     "output_type": "stream",
     "text": [
      "100%|██████████| 188/188 [00:33<00:00,  5.60it/s]\n"
     ]
    },
    {
     "name": "stdout",
     "output_type": "stream",
     "text": [
      "{'epoch': 28, 'test_loss': 0.026096147, 'test_accuracy': 0.9976666666666667, 'test_precision': 0.9976696456934779, 'test_recall': 0.9976666666666666, 'test_f1-score': 0.9976666614166548}\n",
      "Epoch 29/50\n"
     ]
    },
    {
     "name": "stderr",
     "output_type": "stream",
     "text": [
      "100%|██████████| 188/188 [00:33<00:00,  5.69it/s]\n"
     ]
    },
    {
     "name": "stdout",
     "output_type": "stream",
     "text": [
      "{'epoch': 29, 'test_loss': 0.02020426, 'test_accuracy': 0.9976666666666667, 'test_precision': 0.9976669976669976, 'test_recall': 0.9976666666666666, 'test_f1-score': 0.9976666660833332}\n",
      "保存新的最佳模型 ./best_student_model.pth\n",
      "Epoch 30/50\n"
     ]
    },
    {
     "name": "stderr",
     "output_type": "stream",
     "text": [
      "100%|██████████| 188/188 [00:32<00:00,  5.82it/s]\n"
     ]
    },
    {
     "name": "stdout",
     "output_type": "stream",
     "text": [
      "{'epoch': 30, 'test_loss': 0.038858306, 'test_accuracy': 0.9966666666666667, 'test_precision': 0.996678547094362, 'test_recall': 0.9966666666666667, 'test_f1-score': 0.9966666366663967}\n",
      "Epoch 31/50\n"
     ]
    },
    {
     "name": "stderr",
     "output_type": "stream",
     "text": [
      "100%|██████████| 188/188 [00:31<00:00,  5.89it/s]\n"
     ]
    },
    {
     "name": "stdout",
     "output_type": "stream",
     "text": [
      "{'epoch': 31, 'test_loss': 0.0154457465, 'test_accuracy': 0.9993333333333333, 'test_precision': 0.9993333333333334, 'test_recall': 0.9993333333333334, 'test_f1-score': 0.9993333333333334}\n",
      "保存新的最佳模型 ./best_student_model.pth\n",
      "Epoch 32/50\n"
     ]
    },
    {
     "name": "stderr",
     "output_type": "stream",
     "text": [
      "100%|██████████| 188/188 [00:32<00:00,  5.78it/s]\n"
     ]
    },
    {
     "name": "stdout",
     "output_type": "stream",
     "text": [
      "{'epoch': 32, 'test_loss': 0.014644327, 'test_accuracy': 0.998, 'test_precision': 0.9979999999999999, 'test_recall': 0.9979999999999999, 'test_f1-score': 0.9979999999999999}\n",
      "Epoch 33/50\n"
     ]
    },
    {
     "name": "stderr",
     "output_type": "stream",
     "text": [
      "100%|██████████| 188/188 [00:32<00:00,  5.83it/s]\n"
     ]
    },
    {
     "name": "stdout",
     "output_type": "stream",
     "text": [
      "{'epoch': 33, 'test_loss': 0.017569698, 'test_accuracy': 0.998, 'test_precision': 0.9980013253386346, 'test_recall': 0.9979999999999999, 'test_f1-score': 0.997999997999998}\n",
      "Epoch 34/50\n"
     ]
    },
    {
     "name": "stderr",
     "output_type": "stream",
     "text": [
      "100%|██████████| 188/188 [00:31<00:00,  5.91it/s]\n"
     ]
    },
    {
     "name": "stdout",
     "output_type": "stream",
     "text": [
      "{'epoch': 34, 'test_loss': 0.008139313, 'test_accuracy': 0.9963333333333333, 'test_precision': 0.9963600384964515, 'test_recall': 0.9963333333333333, 'test_f1-score': 0.9963332590818297}\n",
      "Epoch 35/50\n"
     ]
    },
    {
     "name": "stderr",
     "output_type": "stream",
     "text": [
      "100%|██████████| 188/188 [00:31<00:00,  6.00it/s]\n"
     ]
    },
    {
     "name": "stdout",
     "output_type": "stream",
     "text": [
      "{'epoch': 35, 'test_loss': 0.006538007, 'test_accuracy': 0.998, 'test_precision': 0.9980119284294234, 'test_recall': 0.9979999999999999, 'test_f1-score': 0.997999981999838}\n",
      "Epoch 36/50\n"
     ]
    },
    {
     "name": "stderr",
     "output_type": "stream",
     "text": [
      "100%|██████████| 188/188 [00:32<00:00,  5.71it/s]\n"
     ]
    },
    {
     "name": "stdout",
     "output_type": "stream",
     "text": [
      "{'epoch': 36, 'test_loss': 0.010311058, 'test_accuracy': 0.9993333333333333, 'test_precision': 0.9993333333333334, 'test_recall': 0.9993333333333334, 'test_f1-score': 0.9993333333333334}\n",
      "保存新的最佳模型 ./best_student_model.pth\n",
      "Epoch 37/50\n"
     ]
    },
    {
     "name": "stderr",
     "output_type": "stream",
     "text": [
      "100%|██████████| 188/188 [00:31<00:00,  5.93it/s]\n"
     ]
    },
    {
     "name": "stdout",
     "output_type": "stream",
     "text": [
      "{'epoch': 37, 'test_loss': 0.015905984, 'test_accuracy': 0.999, 'test_precision': 0.9990029910269193, 'test_recall': 0.999, 'test_f1-score': 0.9989999977499949}\n",
      "Epoch 38/50\n"
     ]
    },
    {
     "name": "stderr",
     "output_type": "stream",
     "text": [
      "100%|██████████| 188/188 [00:31<00:00,  5.92it/s]\n"
     ]
    },
    {
     "name": "stdout",
     "output_type": "stream",
     "text": [
      "{'epoch': 38, 'test_loss': 0.011500658, 'test_accuracy': 0.999, 'test_precision': 0.9990003323336656, 'test_recall': 0.999, 'test_f1-score': 0.9989999997499998}\n",
      "Epoch 39/50\n"
     ]
    },
    {
     "name": "stderr",
     "output_type": "stream",
     "text": [
      "100%|██████████| 188/188 [00:32<00:00,  5.82it/s]\n"
     ]
    },
    {
     "name": "stdout",
     "output_type": "stream",
     "text": [
      "{'epoch': 39, 'test_loss': 0.011857441, 'test_accuracy': 0.9993333333333333, 'test_precision': 0.9993333333333334, 'test_recall': 0.9993333333333334, 'test_f1-score': 0.9993333333333334}\n",
      "Epoch 40/50\n"
     ]
    },
    {
     "name": "stderr",
     "output_type": "stream",
     "text": [
      "100%|██████████| 188/188 [00:32<00:00,  5.71it/s]\n"
     ]
    },
    {
     "name": "stdout",
     "output_type": "stream",
     "text": [
      "{'epoch': 40, 'test_loss': 0.016074212, 'test_accuracy': 0.999, 'test_precision': 0.9990003323336656, 'test_recall': 0.999, 'test_f1-score': 0.9989999997499998}\n",
      "Epoch 41/50\n"
     ]
    },
    {
     "name": "stderr",
     "output_type": "stream",
     "text": [
      "100%|██████████| 188/188 [00:32<00:00,  5.76it/s]\n"
     ]
    },
    {
     "name": "stdout",
     "output_type": "stream",
     "text": [
      "{'epoch': 41, 'test_loss': 0.009244484, 'test_accuracy': 0.9993333333333333, 'test_precision': 0.9993346640053226, 'test_recall': 0.9993333333333334, 'test_f1-score': 0.9993333326666659}\n",
      "保存新的最佳模型 ./best_student_model.pth\n",
      "Epoch 42/50\n"
     ]
    },
    {
     "name": "stderr",
     "output_type": "stream",
     "text": [
      "100%|██████████| 188/188 [00:32<00:00,  5.78it/s]\n"
     ]
    },
    {
     "name": "stdout",
     "output_type": "stream",
     "text": [
      "{'epoch': 42, 'test_loss': 0.013462174, 'test_accuracy': 0.9993333333333333, 'test_precision': 0.9993346640053226, 'test_recall': 0.9993333333333334, 'test_f1-score': 0.9993333326666659}\n",
      "Epoch 43/50\n"
     ]
    },
    {
     "name": "stderr",
     "output_type": "stream",
     "text": [
      "100%|██████████| 188/188 [00:32<00:00,  5.76it/s]\n"
     ]
    },
    {
     "name": "stdout",
     "output_type": "stream",
     "text": [
      "{'epoch': 43, 'test_loss': 0.010031142, 'test_accuracy': 0.9996666666666667, 'test_precision': 0.9996669996669997, 'test_recall': 0.9996666666666667, 'test_f1-score': 0.9996666665833334}\n",
      "Epoch 44/50\n"
     ]
    },
    {
     "name": "stderr",
     "output_type": "stream",
     "text": [
      "100%|██████████| 188/188 [00:32<00:00,  5.83it/s]\n"
     ]
    },
    {
     "name": "stdout",
     "output_type": "stream",
     "text": [
      "{'epoch': 44, 'test_loss': 0.013999487, 'test_accuracy': 0.9993333333333333, 'test_precision': 0.9993346640053226, 'test_recall': 0.9993333333333334, 'test_f1-score': 0.9993333326666659}\n",
      "Epoch 45/50\n"
     ]
    },
    {
     "name": "stderr",
     "output_type": "stream",
     "text": [
      "100%|██████████| 188/188 [00:32<00:00,  5.70it/s]\n"
     ]
    },
    {
     "name": "stdout",
     "output_type": "stream",
     "text": [
      "{'epoch': 45, 'test_loss': 0.018913593, 'test_accuracy': 0.999, 'test_precision': 0.9990029910269193, 'test_recall': 0.999, 'test_f1-score': 0.9989999977499949}\n",
      "Epoch 46/50\n"
     ]
    },
    {
     "name": "stderr",
     "output_type": "stream",
     "text": [
      "100%|██████████| 188/188 [00:32<00:00,  5.82it/s]\n"
     ]
    },
    {
     "name": "stdout",
     "output_type": "stream",
     "text": [
      "{'epoch': 46, 'test_loss': 0.014443589, 'test_accuracy': 0.999, 'test_precision': 0.9990029910269193, 'test_recall': 0.999, 'test_f1-score': 0.9989999977499949}\n",
      "Epoch 47/50\n"
     ]
    },
    {
     "name": "stderr",
     "output_type": "stream",
     "text": [
      "100%|██████████| 188/188 [00:32<00:00,  5.81it/s]\n"
     ]
    },
    {
     "name": "stdout",
     "output_type": "stream",
     "text": [
      "{'epoch': 47, 'test_loss': 0.01014102, 'test_accuracy': 0.9996666666666667, 'test_precision': 0.9996669996669997, 'test_recall': 0.9996666666666667, 'test_f1-score': 0.9996666665833334}\n",
      "Epoch 48/50\n"
     ]
    },
    {
     "name": "stderr",
     "output_type": "stream",
     "text": [
      "100%|██████████| 188/188 [00:32<00:00,  5.78it/s]\n"
     ]
    },
    {
     "name": "stdout",
     "output_type": "stream",
     "text": [
      "{'epoch': 48, 'test_loss': 0.010330216, 'test_accuracy': 0.9996666666666667, 'test_precision': 0.9996669996669997, 'test_recall': 0.9996666666666667, 'test_f1-score': 0.9996666665833334}\n",
      "Epoch 49/50\n"
     ]
    },
    {
     "name": "stderr",
     "output_type": "stream",
     "text": [
      "100%|██████████| 188/188 [00:33<00:00,  5.68it/s]\n"
     ]
    },
    {
     "name": "stdout",
     "output_type": "stream",
     "text": [
      "{'epoch': 49, 'test_loss': 0.011698716, 'test_accuracy': 0.9996666666666667, 'test_precision': 0.9996669996669997, 'test_recall': 0.9996666666666667, 'test_f1-score': 0.9996666665833334}\n",
      "Epoch 50/50\n"
     ]
    },
    {
     "name": "stderr",
     "output_type": "stream",
     "text": [
      "100%|██████████| 188/188 [00:32<00:00,  5.75it/s]\n"
     ]
    },
    {
     "name": "stdout",
     "output_type": "stream",
     "text": [
      "{'epoch': 50, 'test_loss': 0.0113918865, 'test_accuracy': 0.9996666666666667, 'test_precision': 0.9996669996669997, 'test_recall': 0.9996666666666667, 'test_f1-score': 0.9996666665833334}\n"
     ]
    }
   ],
   "source": [
    "for epoch in range(1, EPOCHS+1):\n",
    "    \n",
    "    print(f'Epoch {epoch}/{EPOCHS}')  # 打印当前训练轮数\n",
    "    \n",
    "    ## 训练阶段\n",
    "    student_model.train()\n",
    "    for images, labels in tqdm(train_loader):  # 获得一个 batch 的数据和标注\n",
    "        images, labels = images.to(device), labels.to(device)\n",
    "\n",
    "        # 前向传播教师模型\n",
    "        with torch.no_grad():\n",
    "            teacher_outputs = teacher_model(images)\n",
    "\n",
    "        # 前向传播学生模型\n",
    "        student_outputs = student_model(images)\n",
    "\n",
    "        # 计算蒸馏损失\n",
    "        loss = distillation_loss(student_outputs, teacher_outputs, labels, temperature=1, alpha=0.5)\n",
    "\n",
    "        # 反向传播和优化\n",
    "        optimizer.zero_grad()\n",
    "        loss.backward()\n",
    "        optimizer.step()\n",
    "\n",
    "    lr_scheduler.step()\n",
    "\n",
    "    ## 测试阶段\n",
    "    student_model.eval()\n",
    "    log_test = evaluate_testset(student_model)\n",
    "    df_test_log = df_test_log.append(log_test, ignore_index=True)\n",
    "    wandb.log(log_test)\n",
    "    print(log_test)\n",
    "    \n",
    "    if log_test['test_accuracy'] >= best_test_accuracy: \n",
    "        if log_test['test_loss'] < best_test_loss: \n",
    "            # 删除旧的最佳模型文件(如有)\n",
    "            old_best_checkpoint_path = './best_student_model.pth'.format(best_test_accuracy)\n",
    "            if os.path.exists(old_best_checkpoint_path):\n",
    "                os.remove(old_best_checkpoint_path)\n",
    "            # 保存新的最佳模型文件\n",
    "            new_best_checkpoint_path = './best_student_model.pth'.format(log_test['test_accuracy'])\n",
    "            torch.save(student_model, new_best_checkpoint_path)\n",
    "            print('保存新的最佳模型', './best_student_model.pth'.format(best_test_accuracy))\n",
    "            best_test_accuracy = log_test['test_accuracy']\n",
    "            best_test_loss = log_test['test_loss']\n",
    "\n",
    "# 保存学生模型\n",
    "torch.save(student_model, 'student_model.pth')"
   ]
  },
  {
   "cell_type": "code",
   "execution_count": 13,
   "id": "9637b6d9",
   "metadata": {},
   "outputs": [
    {
     "name": "stdout",
     "output_type": "stream",
     "text": [
      "{'epoch': 50, 'test_loss': 0.0113918865, 'test_accuracy': 0.9996666666666667, 'test_precision': 0.9996669996669997, 'test_recall': 0.9996666666666667, 'test_f1-score': 0.9996666665833334}\n"
     ]
    }
   ],
   "source": [
    "print(evaluate_testset(student_model))"
   ]
  },
  {
   "cell_type": "code",
   "execution_count": 14,
   "id": "fb7ae6ac-2709-4d33-832f-3ebfa3cfa91e",
   "metadata": {},
   "outputs": [
    {
     "name": "stdout",
     "output_type": "stream",
     "text": [
      "{'epoch': 50, 'test_loss': 0.0009464224, 'test_accuracy': 0.9993333333333333, 'test_precision': 0.9993346640053226, 'test_recall': 0.9993333333333334, 'test_f1-score': 0.9993333326666659}\n"
     ]
    }
   ],
   "source": [
    "print(evaluate_testset(teacher_model))"
   ]
  },
  {
   "cell_type": "code",
   "execution_count": 16,
   "id": "9374ca50-f3b4-4e08-b544-de78a1c11484",
   "metadata": {},
   "outputs": [
    {
     "name": "stdout",
     "output_type": "stream",
     "text": [
      "{'epoch': 50, 'test_loss': 0.009244484, 'test_accuracy': 0.9993333333333333, 'test_precision': 0.9993346640053226, 'test_recall': 0.9993333333333334, 'test_f1-score': 0.9993333326666659}\n"
     ]
    }
   ],
   "source": [
    "# 载入最佳模型作为当前模型\n",
    "best_student_model = torch.load('./best_student_model.pth')\n",
    "best_student_model.eval()\n",
    "print(evaluate_testset(best_student_model))"
   ]
  },
  {
   "cell_type": "code",
   "execution_count": null,
   "id": "354468a7-d927-40a8-9cac-3832f75b9e3a",
   "metadata": {},
   "outputs": [],
   "source": []
  }
 ],
 "metadata": {
  "kernelspec": {
   "display_name": "Python 3 (ipykernel)",
   "language": "python",
   "name": "python3"
  },
  "language_info": {
   "codemirror_mode": {
    "name": "ipython",
    "version": 3
   },
   "file_extension": ".py",
   "mimetype": "text/x-python",
   "name": "python",
   "nbconvert_exporter": "python",
   "pygments_lexer": "ipython3",
   "version": "3.10.9"
  }
 },
 "nbformat": 4,
 "nbformat_minor": 5
}
