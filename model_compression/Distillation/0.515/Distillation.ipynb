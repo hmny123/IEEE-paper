{
 "cells": [
  {
   "cell_type": "code",
   "execution_count": 1,
   "id": "e18af656",
   "metadata": {},
   "outputs": [
    {
     "name": "stdout",
     "output_type": "stream",
     "text": [
      "device cuda:0\n"
     ]
    }
   ],
   "source": [
    "# 导入工具包\n",
    "import time\n",
    "import os\n",
    "from tqdm import tqdm\n",
    "\n",
    "import pandas as pd\n",
    "import numpy as np\n",
    "\n",
    "import torch\n",
    "import torchvision\n",
    "import torch.nn as nn\n",
    "import torch.nn.functional as F\n",
    "\n",
    "import matplotlib.pyplot as plt\n",
    "%matplotlib inline\n",
    "\n",
    "# 忽略烦人的红色提示\n",
    "import warnings\n",
    "warnings.filterwarnings(\"ignore\")\n",
    "\n",
    "# 获取计算硬件\n",
    "# 有 GPU 就用 GPU，没有就用 CPU\n",
    "device = torch.device('cuda:0' if torch.cuda.is_available() else 'cpu')\n",
    "print('device', device) "
   ]
  },
  {
   "cell_type": "code",
   "execution_count": 2,
   "id": "a152eae4",
   "metadata": {},
   "outputs": [],
   "source": [
    "#图像预处理\n",
    "from torchvision import transforms\n",
    "\n",
    "# 训练集图像预处理：缩放裁剪、图像增强、转 Tensor、归一化\n",
    "train_transform = transforms.Compose([transforms.RandomResizedCrop(224),\n",
    "                                      transforms.RandomHorizontalFlip(),\n",
    "                                      transforms.ToTensor(),\n",
    "                                      transforms.Normalize([0.485, 0.456, 0.406], [0.229, 0.224, 0.225])\n",
    "                                     ])\n",
    "\n",
    "# 测试集图像预处理-RCTN：缩放、裁剪、转 Tensor、归一化\n",
    "test_transform = transforms.Compose([transforms.Resize(256),\n",
    "                                     transforms.CenterCrop(224),\n",
    "                                     transforms.ToTensor(),\n",
    "                                     transforms.Normalize(\n",
    "                                         mean=[0.485, 0.456, 0.406], \n",
    "                                         std=[0.229, 0.224, 0.225])\n",
    "                                    ])"
   ]
  },
  {
   "cell_type": "code",
   "execution_count": 3,
   "id": "1d0b585d",
   "metadata": {},
   "outputs": [
    {
     "name": "stdout",
     "output_type": "stream",
     "text": [
      "训练集路径 ../../data/lungImageSet_split/train\n",
      "测试集路径 ../../data/lungImageSet_split/test\n",
      "训练集图像数量 12000\n",
      "类别个数 3\n",
      "各类别名称 ['lung_aca', 'lung_n', 'lung_scc']\n",
      "测试集图像数量 3000\n",
      "类别个数 3\n",
      "各类别名称 ['lung_aca', 'lung_n', 'lung_scc']\n"
     ]
    }
   ],
   "source": [
    "# 数据集文件夹路径\n",
    "dataset_dir = '../../data/lungImageSet_split'\n",
    "train_path = os.path.join(dataset_dir, 'train')\n",
    "test_path = os.path.join(dataset_dir, 'test')\n",
    "print('训练集路径', train_path)\n",
    "print('测试集路径', test_path)\n",
    "\n",
    "from torchvision import datasets\n",
    "# 载入训练集\n",
    "train_dataset = datasets.ImageFolder(train_path, train_transform)\n",
    "# 载入测试集\n",
    "test_dataset = datasets.ImageFolder(test_path, test_transform)\n",
    "\n",
    "print('训练集图像数量', len(train_dataset))\n",
    "print('类别个数', len(train_dataset.classes))\n",
    "print('各类别名称', train_dataset.classes)\n",
    "print('测试集图像数量', len(test_dataset))\n",
    "print('类别个数', len(test_dataset.classes))\n",
    "print('各类别名称', test_dataset.classes)\n",
    "\n",
    "# 各类别名称\n",
    "class_names = train_dataset.classes\n",
    "n_class = len(class_names)\n",
    "# 映射关系：类别 到 索引号\n",
    "train_dataset.class_to_idx\n",
    "# 映射关系：索引号 到 类别\n",
    "idx_to_labels = {y:x for x,y in train_dataset.class_to_idx.items()}\n",
    "\n",
    "idx_to_labels\n",
    "\n",
    "#定义数据加载器\n",
    "from torch.utils.data import DataLoader\n",
    "\n",
    "BATCH_SIZE = 64\n",
    "epoch = 0\n",
    "\n",
    "# 训练集的数据加载器\n",
    "train_loader = DataLoader(train_dataset,\n",
    "                          batch_size=BATCH_SIZE,\n",
    "                          shuffle=True,\n",
    "                          num_workers=4\n",
    "                         )\n",
    "\n",
    "# 测试集的数据加载器\n",
    "test_loader = DataLoader(test_dataset,\n",
    "                         batch_size=BATCH_SIZE,\n",
    "                         shuffle=False,\n",
    "                         num_workers=4\n",
    "                        )"
   ]
  },
  {
   "cell_type": "code",
   "execution_count": 4,
   "id": "66cc69fa",
   "metadata": {},
   "outputs": [],
   "source": [
    "# 导入训练所需工具包\n",
    "from torchvision import models\n",
    "import torch.optim as optim\n",
    "from torch.optim import lr_scheduler\n",
    "\n",
    "from sklearn.metrics import precision_score\n",
    "from sklearn.metrics import recall_score\n",
    "from sklearn.metrics import accuracy_score\n",
    "from sklearn.metrics import f1_score\n",
    "from sklearn.metrics import roc_auc_score\n",
    "\n",
    "def evaluate_testset(model):\n",
    "    # 在整个测试集上评估，返回分类评估指标日志\n",
    "    \n",
    "    # 交叉熵损失函数\n",
    "    criterion = nn.CrossEntropyLoss() \n",
    "    loss_list = []\n",
    "    labels_list = []\n",
    "    preds_list = []\n",
    "    \n",
    "    with torch.no_grad():\n",
    "        for images, labels in test_loader: # 生成一个 batch 的数据和标注\n",
    "            images = images.to(device)\n",
    "            labels = labels.to(device)\n",
    "            outputs = model(images) # 输入模型，执行前向预测\n",
    "            # outputs = outputs.logits\n",
    "            # 获取整个测试集的标签类别和预测类别\n",
    "            _, preds = torch.max(outputs, 1) # 获得当前 batch 所有图像的预测类别\n",
    "            preds = preds.cpu().numpy()\n",
    "            loss = criterion(outputs, labels) # 由 logit，计算当前 batch 中，每个样本的平均交叉熵损失函数值\n",
    "            loss = loss.detach().cpu().numpy()\n",
    "            outputs = outputs.detach().cpu().numpy()\n",
    "            labels = labels.detach().cpu().numpy()\n",
    "\n",
    "            loss_list.append(loss)\n",
    "            labels_list.extend(labels)\n",
    "            preds_list.extend(preds)\n",
    "        \n",
    "    log_test = {}\n",
    "    log_test['epoch'] = epoch\n",
    "    # 计算分类评估指标\n",
    "    log_test['test_loss'] = np.mean(loss)\n",
    "    log_test['test_accuracy'] = accuracy_score(labels_list, preds_list)\n",
    "    log_test['test_precision'] = precision_score(labels_list, preds_list, average='macro')\n",
    "    log_test['test_recall'] = recall_score(labels_list, preds_list, average='macro')\n",
    "    log_test['test_f1-score'] = f1_score(labels_list, preds_list, average='macro')\n",
    "    \n",
    "    return log_test"
   ]
  },
  {
   "cell_type": "code",
   "execution_count": 5,
   "id": "60259f0f",
   "metadata": {},
   "outputs": [
    {
     "name": "stdout",
     "output_type": "stream",
     "text": [
      "{'epoch': 0, 'test_loss': 0.00052231346, 'test_accuracy': 1.0, 'test_precision': 1.0, 'test_recall': 1.0, 'test_f1-score': 1.0}\n"
     ]
    }
   ],
   "source": [
    "# 载入最佳模型作为当前模型\n",
    "teacher_model = torch.load('./fine_tuned_pruned_resnet50-1.000.pth')\n",
    "teacher_model.eval()\n",
    "print(evaluate_testset(teacher_model))"
   ]
  },
  {
   "cell_type": "code",
   "execution_count": 6,
   "id": "78346ab4",
   "metadata": {},
   "outputs": [],
   "source": [
    "# 导入训练所需工具包\n",
    "from torchvision import models\n",
    "import torch.optim as optim\n",
    "from torch.optim import lr_scheduler\n",
    "\n",
    "student_model = models.resnet18(pretrained=False, num_classes=n_class)\n",
    "student_model = student_model.to(device)"
   ]
  },
  {
   "cell_type": "code",
   "execution_count": 7,
   "id": "fa6b8b90",
   "metadata": {},
   "outputs": [],
   "source": [
    "# 定义蒸馏损失函数\n",
    "def distillation_loss(student_outputs, teacher_outputs, labels, temperature=1, alpha=0.5):\n",
    "    hard_loss = F.cross_entropy(student_outputs, labels) * (1 - alpha)\n",
    "    soft_loss = nn.KLDivLoss(reduction='batchmean')(F.log_softmax(student_outputs / temperature, dim=1),\n",
    "                                                     F.softmax(teacher_outputs / temperature, dim=1)) * (alpha * temperature * temperature)\n",
    "    return hard_loss + soft_loss"
   ]
  },
  {
   "cell_type": "code",
   "execution_count": 8,
   "id": "d6047c57",
   "metadata": {},
   "outputs": [],
   "source": [
    "# 优化器和学习率调度器\n",
    "optimizer = optim.Adam(student_model.parameters(), lr=0.01)\n",
    "lr_scheduler = lr_scheduler.StepLR(optimizer, step_size=5, gamma=0.5)\n",
    "\n",
    "# 训练轮次\n",
    "EPOCHS = 80\n",
    "\n",
    "# 学生模型训练\n",
    "teacher_model.eval()\n",
    "best_test_accuracy = 0\n",
    "best_test_loss = 10000"
   ]
  },
  {
   "cell_type": "code",
   "execution_count": 9,
   "id": "4030f1a4-3ee6-4443-836d-4ddc0576d8bf",
   "metadata": {},
   "outputs": [],
   "source": [
    "# pip install wandb"
   ]
  },
  {
   "cell_type": "code",
   "execution_count": 10,
   "id": "0f4a33d8-3481-4bcb-9909-a099f083e11c",
   "metadata": {},
   "outputs": [
    {
     "name": "stderr",
     "output_type": "stream",
     "text": [
      "Failed to detect the name of this notebook, you can set it manually with the WANDB_NOTEBOOK_NAME environment variable to enable code saving.\n",
      "\u001b[34m\u001b[1mwandb\u001b[0m: Currently logged in as: \u001b[33mjyjy2001lfx\u001b[0m (\u001b[33mjnjy\u001b[0m). Use \u001b[1m`wandb login --relogin`\u001b[0m to force relogin\n"
     ]
    },
    {
     "data": {
      "text/html": [
       "Tracking run with wandb version 0.15.1"
      ],
      "text/plain": [
       "<IPython.core.display.HTML object>"
      ]
     },
     "metadata": {},
     "output_type": "display_data"
    },
    {
     "data": {
      "text/html": [
       "Run data is saved locally in <code>/home/featurize/work/Distillation/wandb/run-20230504_205923-a9rjvphy</code>"
      ],
      "text/plain": [
       "<IPython.core.display.HTML object>"
      ]
     },
     "metadata": {},
     "output_type": "display_data"
    },
    {
     "data": {
      "text/html": [
       "Syncing run <strong><a href='https://wandb.ai/jnjy/lung%20cancer/runs/a9rjvphy' target=\"_blank\">0504205921</a></strong> to <a href='https://wandb.ai/jnjy/lung%20cancer' target=\"_blank\">Weights & Biases</a> (<a href='https://wandb.me/run' target=\"_blank\">docs</a>)<br/>"
      ],
      "text/plain": [
       "<IPython.core.display.HTML object>"
      ]
     },
     "metadata": {},
     "output_type": "display_data"
    },
    {
     "data": {
      "text/html": [
       " View project at <a href='https://wandb.ai/jnjy/lung%20cancer' target=\"_blank\">https://wandb.ai/jnjy/lung%20cancer</a>"
      ],
      "text/plain": [
       "<IPython.core.display.HTML object>"
      ]
     },
     "metadata": {},
     "output_type": "display_data"
    },
    {
     "data": {
      "text/html": [
       " View run at <a href='https://wandb.ai/jnjy/lung%20cancer/runs/a9rjvphy' target=\"_blank\">https://wandb.ai/jnjy/lung%20cancer/runs/a9rjvphy</a>"
      ],
      "text/plain": [
       "<IPython.core.display.HTML object>"
      ]
     },
     "metadata": {},
     "output_type": "display_data"
    },
    {
     "data": {
      "text/html": [
       "<button onClick=\"this.nextSibling.style.display='block';this.style.display='none';\">Display W&B run</button><iframe src='https://wandb.ai/jnjy/lung%20cancer/runs/a9rjvphy?jupyter=true' style='border:none;width:100%;height:420px;display:none;'></iframe>"
      ],
      "text/plain": [
       "<wandb.sdk.wandb_run.Run at 0x7fa047aec8d0>"
      ]
     },
     "execution_count": 10,
     "metadata": {},
     "output_type": "execute_result"
    }
   ],
   "source": [
    "import wandb\n",
    "\n",
    "wandb.init(project='lung cancer', name=time.strftime('%m%d%H%M%S'))"
   ]
  },
  {
   "cell_type": "code",
   "execution_count": 11,
   "id": "3ddabddd-9e6e-4f7a-95cb-5656c68218da",
   "metadata": {},
   "outputs": [],
   "source": [
    "# 训练日志-测试集\n",
    "df_test_log = pd.DataFrame()\n",
    "log_test = {}\n",
    "log_test['epoch'] = 0\n",
    "log_test.update(evaluate_testset(student_model))\n",
    "df_test_log = df_test_log.append(log_test, ignore_index=True)"
   ]
  },
  {
   "cell_type": "code",
   "execution_count": 14,
   "id": "6441d917",
   "metadata": {},
   "outputs": [
    {
     "name": "stdout",
     "output_type": "stream",
     "text": [
      "Epoch 1/80\n"
     ]
    },
    {
     "name": "stderr",
     "output_type": "stream",
     "text": [
      "100%|██████████| 188/188 [00:33<00:00,  5.59it/s]\n"
     ]
    },
    {
     "name": "stdout",
     "output_type": "stream",
     "text": [
      "{'epoch': 1, 'test_loss': 1.094175, 'test_accuracy': 0.8683333333333333, 'test_precision': 0.8969591474333042, 'test_recall': 0.8683333333333333, 'test_f1-score': 0.8679982632908311}\n",
      "保存新的最佳模型 ./best_student_model.pth\n",
      "Epoch 2/80\n"
     ]
    },
    {
     "name": "stderr",
     "output_type": "stream",
     "text": [
      "100%|██████████| 188/188 [00:33<00:00,  5.63it/s]\n"
     ]
    },
    {
     "name": "stdout",
     "output_type": "stream",
     "text": [
      "{'epoch': 2, 'test_loss': 0.6175906, 'test_accuracy': 0.9236666666666666, 'test_precision': 0.9260603026164338, 'test_recall': 0.9236666666666666, 'test_f1-score': 0.9243323859515981}\n",
      "保存新的最佳模型 ./best_student_model.pth\n",
      "Epoch 3/80\n"
     ]
    },
    {
     "name": "stderr",
     "output_type": "stream",
     "text": [
      "100%|██████████| 188/188 [00:33<00:00,  5.59it/s]\n"
     ]
    },
    {
     "name": "stdout",
     "output_type": "stream",
     "text": [
      "{'epoch': 3, 'test_loss': 0.29250294, 'test_accuracy': 0.9393333333333334, 'test_precision': 0.9392186933728389, 'test_recall': 0.9393333333333334, 'test_f1-score': 0.9391837036529228}\n",
      "保存新的最佳模型 ./best_student_model.pth\n",
      "Epoch 4/80\n"
     ]
    },
    {
     "name": "stderr",
     "output_type": "stream",
     "text": [
      "100%|██████████| 188/188 [00:33<00:00,  5.58it/s]\n"
     ]
    },
    {
     "name": "stdout",
     "output_type": "stream",
     "text": [
      "{'epoch': 4, 'test_loss': 0.11110077, 'test_accuracy': 0.8876666666666667, 'test_precision': 0.9061697435388357, 'test_recall': 0.8876666666666667, 'test_f1-score': 0.8854616707130183}\n",
      "Epoch 5/80\n"
     ]
    },
    {
     "name": "stderr",
     "output_type": "stream",
     "text": [
      "100%|██████████| 188/188 [00:33<00:00,  5.56it/s]\n"
     ]
    },
    {
     "name": "stdout",
     "output_type": "stream",
     "text": [
      "{'epoch': 5, 'test_loss': 0.058107115, 'test_accuracy': 0.8553333333333333, 'test_precision': 0.8956645274810344, 'test_recall': 0.8553333333333333, 'test_f1-score': 0.8477618287265661}\n",
      "Epoch 6/80\n"
     ]
    },
    {
     "name": "stderr",
     "output_type": "stream",
     "text": [
      "100%|██████████| 188/188 [00:33<00:00,  5.63it/s]\n"
     ]
    },
    {
     "name": "stdout",
     "output_type": "stream",
     "text": [
      "{'epoch': 6, 'test_loss': 0.16297701, 'test_accuracy': 0.9373333333333334, 'test_precision': 0.9394457344341246, 'test_recall': 0.9373333333333335, 'test_f1-score': 0.9372117753303729}\n",
      "Epoch 7/80\n"
     ]
    },
    {
     "name": "stderr",
     "output_type": "stream",
     "text": [
      "100%|██████████| 188/188 [00:33<00:00,  5.66it/s]\n"
     ]
    },
    {
     "name": "stdout",
     "output_type": "stream",
     "text": [
      "{'epoch': 7, 'test_loss': 0.13926135, 'test_accuracy': 0.947, 'test_precision': 0.949377152748974, 'test_recall': 0.947, 'test_f1-score': 0.9469123672686077}\n",
      "保存新的最佳模型 ./best_student_model.pth\n",
      "Epoch 8/80\n"
     ]
    },
    {
     "name": "stderr",
     "output_type": "stream",
     "text": [
      "100%|██████████| 188/188 [00:33<00:00,  5.62it/s]\n"
     ]
    },
    {
     "name": "stdout",
     "output_type": "stream",
     "text": [
      "{'epoch': 8, 'test_loss': 0.25623316, 'test_accuracy': 0.9253333333333333, 'test_precision': 0.9262324981864748, 'test_recall': 0.9253333333333332, 'test_f1-score': 0.924840480652251}\n",
      "Epoch 9/80\n"
     ]
    },
    {
     "name": "stderr",
     "output_type": "stream",
     "text": [
      "100%|██████████| 188/188 [00:33<00:00,  5.59it/s]\n"
     ]
    },
    {
     "name": "stdout",
     "output_type": "stream",
     "text": [
      "{'epoch': 9, 'test_loss': 0.19298717, 'test_accuracy': 0.9613333333333334, 'test_precision': 0.961428881009454, 'test_recall': 0.9613333333333333, 'test_f1-score': 0.9613627572587915}\n",
      "保存新的最佳模型 ./best_student_model.pth\n",
      "Epoch 10/80\n"
     ]
    },
    {
     "name": "stderr",
     "output_type": "stream",
     "text": [
      "100%|██████████| 188/188 [00:33<00:00,  5.60it/s]\n"
     ]
    },
    {
     "name": "stdout",
     "output_type": "stream",
     "text": [
      "{'epoch': 10, 'test_loss': 0.18885635, 'test_accuracy': 0.959, 'test_precision': 0.959000740746264, 'test_recall': 0.959, 'test_f1-score': 0.9589914283407938}\n",
      "Epoch 11/80\n"
     ]
    },
    {
     "name": "stderr",
     "output_type": "stream",
     "text": [
      "100%|██████████| 188/188 [00:33<00:00,  5.62it/s]\n"
     ]
    },
    {
     "name": "stdout",
     "output_type": "stream",
     "text": [
      "{'epoch': 11, 'test_loss': 0.13063283, 'test_accuracy': 0.9653333333333334, 'test_precision': 0.9654976439433768, 'test_recall': 0.9653333333333333, 'test_f1-score': 0.9652884074962061}\n",
      "保存新的最佳模型 ./best_student_model.pth\n",
      "Epoch 12/80\n"
     ]
    },
    {
     "name": "stderr",
     "output_type": "stream",
     "text": [
      "100%|██████████| 188/188 [00:33<00:00,  5.58it/s]\n"
     ]
    },
    {
     "name": "stdout",
     "output_type": "stream",
     "text": [
      "{'epoch': 12, 'test_loss': 0.06711077, 'test_accuracy': 0.9553333333333334, 'test_precision': 0.9579067305376977, 'test_recall': 0.9553333333333334, 'test_f1-score': 0.9552344462250444}\n",
      "Epoch 13/80\n"
     ]
    },
    {
     "name": "stderr",
     "output_type": "stream",
     "text": [
      "100%|██████████| 188/188 [00:34<00:00,  5.53it/s]\n"
     ]
    },
    {
     "name": "stdout",
     "output_type": "stream",
     "text": [
      "{'epoch': 13, 'test_loss': 0.091581784, 'test_accuracy': 0.974, 'test_precision': 0.974148821362873, 'test_recall': 0.9739999999999999, 'test_f1-score': 0.9739968536192879}\n",
      "保存新的最佳模型 ./best_student_model.pth\n",
      "Epoch 14/80\n"
     ]
    },
    {
     "name": "stderr",
     "output_type": "stream",
     "text": [
      "100%|██████████| 188/188 [00:34<00:00,  5.42it/s]\n"
     ]
    },
    {
     "name": "stdout",
     "output_type": "stream",
     "text": [
      "{'epoch': 14, 'test_loss': 0.13465829, 'test_accuracy': 0.964, 'test_precision': 0.9653302117253091, 'test_recall': 0.964, 'test_f1-score': 0.9641296490276194}\n",
      "Epoch 15/80\n"
     ]
    },
    {
     "name": "stderr",
     "output_type": "stream",
     "text": [
      "100%|██████████| 188/188 [00:34<00:00,  5.45it/s]\n"
     ]
    },
    {
     "name": "stdout",
     "output_type": "stream",
     "text": [
      "{'epoch': 15, 'test_loss': 0.27289224, 'test_accuracy': 0.9096666666666666, 'test_precision': 0.9090386865805383, 'test_recall': 0.9096666666666667, 'test_f1-score': 0.9086971009343765}\n",
      "Epoch 16/80\n"
     ]
    },
    {
     "name": "stderr",
     "output_type": "stream",
     "text": [
      "100%|██████████| 188/188 [00:34<00:00,  5.39it/s]\n"
     ]
    },
    {
     "name": "stdout",
     "output_type": "stream",
     "text": [
      "{'epoch': 16, 'test_loss': 0.1198952, 'test_accuracy': 0.9813333333333333, 'test_precision': 0.9814857057482488, 'test_recall': 0.9813333333333333, 'test_f1-score': 0.981331074393335}\n",
      "保存新的最佳模型 ./best_student_model.pth\n",
      "Epoch 17/80\n"
     ]
    },
    {
     "name": "stderr",
     "output_type": "stream",
     "text": [
      "100%|██████████| 188/188 [00:34<00:00,  5.43it/s]\n"
     ]
    },
    {
     "name": "stdout",
     "output_type": "stream",
     "text": [
      "{'epoch': 17, 'test_loss': 0.056033973, 'test_accuracy': 0.9873333333333333, 'test_precision': 0.9873346160051306, 'test_recall': 0.9873333333333333, 'test_f1-score': 0.987333320666654}\n",
      "保存新的最佳模型 ./best_student_model.pth\n",
      "Epoch 18/80\n"
     ]
    },
    {
     "name": "stderr",
     "output_type": "stream",
     "text": [
      "100%|██████████| 188/188 [00:34<00:00,  5.45it/s]\n"
     ]
    },
    {
     "name": "stdout",
     "output_type": "stream",
     "text": [
      "{'epoch': 18, 'test_loss': 0.034996286, 'test_accuracy': 0.9833333333333333, 'test_precision': 0.983581794793785, 'test_recall': 0.9833333333333333, 'test_f1-score': 0.9833300660262744}\n",
      "Epoch 19/80\n"
     ]
    },
    {
     "name": "stderr",
     "output_type": "stream",
     "text": [
      "100%|██████████| 188/188 [00:34<00:00,  5.41it/s]\n"
     ]
    },
    {
     "name": "stdout",
     "output_type": "stream",
     "text": [
      "{'epoch': 19, 'test_loss': 0.029719118, 'test_accuracy': 0.975, 'test_precision': 0.9760050403761822, 'test_recall': 0.9750000000000001, 'test_f1-score': 0.9749796772428406}\n",
      "Epoch 20/80\n"
     ]
    },
    {
     "name": "stderr",
     "output_type": "stream",
     "text": [
      "100%|██████████| 188/188 [00:34<00:00,  5.47it/s]\n"
     ]
    },
    {
     "name": "stdout",
     "output_type": "stream",
     "text": [
      "{'epoch': 20, 'test_loss': 0.07612227, 'test_accuracy': 0.9393333333333334, 'test_precision': 0.9425512511264725, 'test_recall': 0.9393333333333334, 'test_f1-score': 0.9391559119726455}\n",
      "Epoch 21/80\n"
     ]
    },
    {
     "name": "stderr",
     "output_type": "stream",
     "text": [
      "100%|██████████| 188/188 [00:34<00:00,  5.42it/s]\n"
     ]
    },
    {
     "name": "stdout",
     "output_type": "stream",
     "text": [
      "{'epoch': 21, 'test_loss': 0.0469217, 'test_accuracy': 0.9833333333333333, 'test_precision': 0.9834600506869414, 'test_recall': 0.9833333333333333, 'test_f1-score': 0.9833316664999834}\n",
      "Epoch 22/80\n"
     ]
    },
    {
     "name": "stderr",
     "output_type": "stream",
     "text": [
      "100%|██████████| 188/188 [00:34<00:00,  5.42it/s]\n"
     ]
    },
    {
     "name": "stdout",
     "output_type": "stream",
     "text": [
      "{'epoch': 22, 'test_loss': 0.047518816, 'test_accuracy': 0.9933333333333333, 'test_precision': 0.9933450937567087, 'test_recall': 0.9933333333333333, 'test_f1-score': 0.9933332733327932}\n",
      "保存新的最佳模型 ./best_student_model.pth\n",
      "Epoch 23/80\n"
     ]
    },
    {
     "name": "stderr",
     "output_type": "stream",
     "text": [
      "100%|██████████| 188/188 [00:34<00:00,  5.38it/s]\n"
     ]
    },
    {
     "name": "stdout",
     "output_type": "stream",
     "text": [
      "{'epoch': 23, 'test_loss': 0.03226146, 'test_accuracy': 0.9943333333333333, 'test_precision': 0.9943362823598746, 'test_recall': 0.9943333333333332, 'test_f1-score': 0.9943333205833046}\n",
      "保存新的最佳模型 ./best_student_model.pth\n",
      "Epoch 24/80\n"
     ]
    },
    {
     "name": "stderr",
     "output_type": "stream",
     "text": [
      "100%|██████████| 188/188 [00:34<00:00,  5.40it/s]\n"
     ]
    },
    {
     "name": "stdout",
     "output_type": "stream",
     "text": [
      "{'epoch': 24, 'test_loss': 0.03959536, 'test_accuracy': 0.99, 'test_precision': 0.9900206946577913, 'test_recall': 0.9899999999999999, 'test_f1-score': 0.9899998399974398}\n",
      "Epoch 25/80\n"
     ]
    },
    {
     "name": "stderr",
     "output_type": "stream",
     "text": [
      "100%|██████████| 188/188 [00:34<00:00,  5.45it/s]\n"
     ]
    },
    {
     "name": "stdout",
     "output_type": "stream",
     "text": [
      "{'epoch': 25, 'test_loss': 0.044576526, 'test_accuracy': 0.992, 'test_precision': 0.9920117124216472, 'test_recall': 0.992, 'test_f1-score': 0.991999927999352}\n",
      "Epoch 26/80\n"
     ]
    },
    {
     "name": "stderr",
     "output_type": "stream",
     "text": [
      "100%|██████████| 188/188 [00:34<00:00,  5.45it/s]\n"
     ]
    },
    {
     "name": "stdout",
     "output_type": "stream",
     "text": [
      "{'epoch': 26, 'test_loss': 0.026175877, 'test_accuracy': 0.998, 'test_precision': 0.9980053014181559, 'test_recall': 0.9980000000000001, 'test_f1-score': 0.997999991999968}\n",
      "保存新的最佳模型 ./best_student_model.pth\n",
      "Epoch 27/80\n"
     ]
    },
    {
     "name": "stderr",
     "output_type": "stream",
     "text": [
      "100%|██████████| 188/188 [00:34<00:00,  5.46it/s]\n"
     ]
    },
    {
     "name": "stdout",
     "output_type": "stream",
     "text": [
      "{'epoch': 27, 'test_loss': 0.015103501, 'test_accuracy': 0.9926666666666667, 'test_precision': 0.9927723248999344, 'test_recall': 0.9926666666666666, 'test_f1-score': 0.9926660726185488}\n",
      "Epoch 28/80\n"
     ]
    },
    {
     "name": "stderr",
     "output_type": "stream",
     "text": [
      "100%|██████████| 188/188 [00:34<00:00,  5.47it/s]\n"
     ]
    },
    {
     "name": "stdout",
     "output_type": "stream",
     "text": [
      "{'epoch': 28, 'test_loss': 0.02802031, 'test_accuracy': 0.9963333333333333, 'test_precision': 0.9963415752060468, 'test_recall': 0.9963333333333333, 'test_f1-score': 0.9963333104165234}\n",
      "Epoch 29/80\n"
     ]
    },
    {
     "name": "stderr",
     "output_type": "stream",
     "text": [
      "100%|██████████| 188/188 [00:35<00:00,  5.36it/s]\n"
     ]
    },
    {
     "name": "stdout",
     "output_type": "stream",
     "text": [
      "{'epoch': 29, 'test_loss': 0.011628056, 'test_accuracy': 0.9966666666666667, 'test_precision': 0.996678547094362, 'test_recall': 0.9966666666666667, 'test_f1-score': 0.9966666366663967}\n",
      "Epoch 30/80\n"
     ]
    },
    {
     "name": "stderr",
     "output_type": "stream",
     "text": [
      "100%|██████████| 188/188 [00:34<00:00,  5.42it/s]\n"
     ]
    },
    {
     "name": "stdout",
     "output_type": "stream",
     "text": [
      "{'epoch': 30, 'test_loss': 0.019632543, 'test_accuracy': 0.9926666666666667, 'test_precision': 0.9927136174275762, 'test_recall': 0.9926666666666667, 'test_f1-score': 0.9926664026571622}\n",
      "Epoch 31/80\n"
     ]
    },
    {
     "name": "stderr",
     "output_type": "stream",
     "text": [
      "100%|██████████| 188/188 [00:34<00:00,  5.44it/s]\n"
     ]
    },
    {
     "name": "stdout",
     "output_type": "stream",
     "text": [
      "{'epoch': 31, 'test_loss': 0.027471866, 'test_accuracy': 0.9973333333333333, 'test_precision': 0.997338624084652, 'test_recall': 0.9973333333333333, 'test_f1-score': 0.997333322666624}\n",
      "Epoch 32/80\n"
     ]
    },
    {
     "name": "stderr",
     "output_type": "stream",
     "text": [
      "100%|██████████| 188/188 [00:34<00:00,  5.38it/s]\n"
     ]
    },
    {
     "name": "stdout",
     "output_type": "stream",
     "text": [
      "{'epoch': 32, 'test_loss': 0.014435093, 'test_accuracy': 0.999, 'test_precision': 0.9990003323336656, 'test_recall': 0.999, 'test_f1-score': 0.9989999997499998}\n",
      "保存新的最佳模型 ./best_student_model.pth\n",
      "Epoch 33/80\n"
     ]
    },
    {
     "name": "stderr",
     "output_type": "stream",
     "text": [
      "100%|██████████| 188/188 [00:34<00:00,  5.47it/s]\n"
     ]
    },
    {
     "name": "stdout",
     "output_type": "stream",
     "text": [
      "{'epoch': 33, 'test_loss': 0.02373022, 'test_accuracy': 0.9986666666666667, 'test_precision': 0.99867197875166, 'test_recall': 0.9986666666666667, 'test_f1-score': 0.9986666613333121}\n",
      "Epoch 34/80\n"
     ]
    },
    {
     "name": "stderr",
     "output_type": "stream",
     "text": [
      "100%|██████████| 188/188 [00:34<00:00,  5.43it/s]\n"
     ]
    },
    {
     "name": "stdout",
     "output_type": "stream",
     "text": [
      "{'epoch': 34, 'test_loss': 0.011853631, 'test_accuracy': 0.9966666666666667, 'test_precision': 0.9966996699669967, 'test_recall': 0.9966666666666667, 'test_f1-score': 0.9966665833312499}\n",
      "Epoch 35/80\n"
     ]
    },
    {
     "name": "stderr",
     "output_type": "stream",
     "text": [
      "100%|██████████| 188/188 [00:34<00:00,  5.41it/s]\n"
     ]
    },
    {
     "name": "stdout",
     "output_type": "stream",
     "text": [
      "{'epoch': 35, 'test_loss': 0.014407491, 'test_accuracy': 0.9986666666666667, 'test_precision': 0.99867197875166, 'test_recall': 0.9986666666666667, 'test_f1-score': 0.9986666613333121}\n",
      "Epoch 36/80\n"
     ]
    },
    {
     "name": "stderr",
     "output_type": "stream",
     "text": [
      "100%|██████████| 188/188 [00:35<00:00,  5.36it/s]\n"
     ]
    },
    {
     "name": "stdout",
     "output_type": "stream",
     "text": [
      "{'epoch': 36, 'test_loss': 0.007790014, 'test_accuracy': 0.9976666666666667, 'test_precision': 0.9976828864614365, 'test_recall': 0.9976666666666666, 'test_f1-score': 0.9976666380829832}\n",
      "Epoch 37/80\n"
     ]
    },
    {
     "name": "stderr",
     "output_type": "stream",
     "text": [
      "100%|██████████| 188/188 [00:34<00:00,  5.44it/s]\n"
     ]
    },
    {
     "name": "stdout",
     "output_type": "stream",
     "text": [
      "{'epoch': 37, 'test_loss': 0.009914206, 'test_accuracy': 0.9993333333333333, 'test_precision': 0.9993346640053226, 'test_recall': 0.9993333333333334, 'test_f1-score': 0.9993333326666659}\n",
      "保存新的最佳模型 ./best_student_model.pth\n",
      "Epoch 38/80\n"
     ]
    },
    {
     "name": "stderr",
     "output_type": "stream",
     "text": [
      "100%|██████████| 188/188 [00:34<00:00,  5.47it/s]\n"
     ]
    },
    {
     "name": "stdout",
     "output_type": "stream",
     "text": [
      "{'epoch': 38, 'test_loss': 0.009884479, 'test_accuracy': 1.0, 'test_precision': 1.0, 'test_recall': 1.0, 'test_f1-score': 1.0}\n",
      "保存新的最佳模型 ./best_student_model.pth\n",
      "Epoch 39/80\n"
     ]
    },
    {
     "name": "stderr",
     "output_type": "stream",
     "text": [
      "100%|██████████| 188/188 [00:34<00:00,  5.44it/s]\n"
     ]
    },
    {
     "name": "stdout",
     "output_type": "stream",
     "text": [
      "{'epoch': 39, 'test_loss': 0.011446872, 'test_accuracy': 1.0, 'test_precision': 1.0, 'test_recall': 1.0, 'test_f1-score': 1.0}\n",
      "Epoch 40/80\n"
     ]
    },
    {
     "name": "stderr",
     "output_type": "stream",
     "text": [
      "100%|██████████| 188/188 [00:34<00:00,  5.45it/s]\n"
     ]
    },
    {
     "name": "stdout",
     "output_type": "stream",
     "text": [
      "{'epoch': 40, 'test_loss': 0.00762128, 'test_accuracy': 0.9996666666666667, 'test_precision': 0.9996669996669997, 'test_recall': 0.9996666666666667, 'test_f1-score': 0.9996666665833334}\n",
      "Epoch 41/80\n"
     ]
    },
    {
     "name": "stderr",
     "output_type": "stream",
     "text": [
      "100%|██████████| 188/188 [00:35<00:00,  5.37it/s]\n"
     ]
    },
    {
     "name": "stdout",
     "output_type": "stream",
     "text": [
      "{'epoch': 41, 'test_loss': 0.005704984, 'test_accuracy': 0.999, 'test_precision': 0.9990029910269193, 'test_recall': 0.999, 'test_f1-score': 0.9989999977499949}\n",
      "Epoch 42/80\n"
     ]
    },
    {
     "name": "stderr",
     "output_type": "stream",
     "text": [
      "100%|██████████| 188/188 [00:34<00:00,  5.43it/s]\n"
     ]
    },
    {
     "name": "stdout",
     "output_type": "stream",
     "text": [
      "{'epoch': 42, 'test_loss': 0.008129584, 'test_accuracy': 1.0, 'test_precision': 1.0, 'test_recall': 1.0, 'test_f1-score': 1.0}\n",
      "保存新的最佳模型 ./best_student_model.pth\n",
      "Epoch 43/80\n"
     ]
    },
    {
     "name": "stderr",
     "output_type": "stream",
     "text": [
      "100%|██████████| 188/188 [00:34<00:00,  5.42it/s]\n"
     ]
    },
    {
     "name": "stdout",
     "output_type": "stream",
     "text": [
      "{'epoch': 43, 'test_loss': 0.004617034, 'test_accuracy': 0.9986666666666667, 'test_precision': 0.99867197875166, 'test_recall': 0.9986666666666667, 'test_f1-score': 0.9986666613333121}\n",
      "Epoch 44/80\n"
     ]
    },
    {
     "name": "stderr",
     "output_type": "stream",
     "text": [
      "100%|██████████| 188/188 [00:34<00:00,  5.39it/s]\n"
     ]
    },
    {
     "name": "stdout",
     "output_type": "stream",
     "text": [
      "{'epoch': 44, 'test_loss': 0.007381775, 'test_accuracy': 0.9993333333333333, 'test_precision': 0.9993346640053226, 'test_recall': 0.9993333333333334, 'test_f1-score': 0.9993333326666659}\n",
      "Epoch 45/80\n"
     ]
    },
    {
     "name": "stderr",
     "output_type": "stream",
     "text": [
      "100%|██████████| 188/188 [00:34<00:00,  5.40it/s]\n"
     ]
    },
    {
     "name": "stdout",
     "output_type": "stream",
     "text": [
      "{'epoch': 45, 'test_loss': 0.0077586877, 'test_accuracy': 0.9996666666666667, 'test_precision': 0.9996669996669997, 'test_recall': 0.9996666666666667, 'test_f1-score': 0.9996666665833334}\n",
      "Epoch 46/80\n"
     ]
    },
    {
     "name": "stderr",
     "output_type": "stream",
     "text": [
      "100%|██████████| 188/188 [00:35<00:00,  5.36it/s]\n"
     ]
    },
    {
     "name": "stdout",
     "output_type": "stream",
     "text": [
      "{'epoch': 46, 'test_loss': 0.009817825, 'test_accuracy': 0.9996666666666667, 'test_precision': 0.9996669996669997, 'test_recall': 0.9996666666666667, 'test_f1-score': 0.9996666665833334}\n",
      "Epoch 47/80\n"
     ]
    },
    {
     "name": "stderr",
     "output_type": "stream",
     "text": [
      "100%|██████████| 188/188 [00:34<00:00,  5.45it/s]\n"
     ]
    },
    {
     "name": "stdout",
     "output_type": "stream",
     "text": [
      "{'epoch': 47, 'test_loss': 0.008368903, 'test_accuracy': 1.0, 'test_precision': 1.0, 'test_recall': 1.0, 'test_f1-score': 1.0}\n",
      "Epoch 48/80\n"
     ]
    },
    {
     "name": "stderr",
     "output_type": "stream",
     "text": [
      "100%|██████████| 188/188 [00:35<00:00,  5.33it/s]\n"
     ]
    },
    {
     "name": "stdout",
     "output_type": "stream",
     "text": [
      "{'epoch': 48, 'test_loss': 0.007850344, 'test_accuracy': 1.0, 'test_precision': 1.0, 'test_recall': 1.0, 'test_f1-score': 1.0}\n",
      "保存新的最佳模型 ./best_student_model.pth\n",
      "Epoch 49/80\n"
     ]
    },
    {
     "name": "stderr",
     "output_type": "stream",
     "text": [
      "100%|██████████| 188/188 [00:35<00:00,  5.27it/s]\n"
     ]
    },
    {
     "name": "stdout",
     "output_type": "stream",
     "text": [
      "{'epoch': 49, 'test_loss': 0.005382, 'test_accuracy': 1.0, 'test_precision': 1.0, 'test_recall': 1.0, 'test_f1-score': 1.0}\n",
      "保存新的最佳模型 ./best_student_model.pth\n",
      "Epoch 50/80\n"
     ]
    },
    {
     "name": "stderr",
     "output_type": "stream",
     "text": [
      "100%|██████████| 188/188 [00:35<00:00,  5.33it/s]\n"
     ]
    },
    {
     "name": "stdout",
     "output_type": "stream",
     "text": [
      "{'epoch': 50, 'test_loss': 0.009131216, 'test_accuracy': 1.0, 'test_precision': 1.0, 'test_recall': 1.0, 'test_f1-score': 1.0}\n",
      "Epoch 51/80\n"
     ]
    },
    {
     "name": "stderr",
     "output_type": "stream",
     "text": [
      "100%|██████████| 188/188 [00:35<00:00,  5.32it/s]\n"
     ]
    },
    {
     "name": "stdout",
     "output_type": "stream",
     "text": [
      "{'epoch': 51, 'test_loss': 0.005889195, 'test_accuracy': 1.0, 'test_precision': 1.0, 'test_recall': 1.0, 'test_f1-score': 1.0}\n",
      "Epoch 52/80\n"
     ]
    },
    {
     "name": "stderr",
     "output_type": "stream",
     "text": [
      "100%|██████████| 188/188 [00:35<00:00,  5.36it/s]\n"
     ]
    },
    {
     "name": "stdout",
     "output_type": "stream",
     "text": [
      "{'epoch': 52, 'test_loss': 0.006068819, 'test_accuracy': 0.9996666666666667, 'test_precision': 0.9996669996669997, 'test_recall': 0.9996666666666667, 'test_f1-score': 0.9996666665833334}\n",
      "Epoch 53/80\n"
     ]
    },
    {
     "name": "stderr",
     "output_type": "stream",
     "text": [
      "100%|██████████| 188/188 [00:35<00:00,  5.37it/s]\n"
     ]
    },
    {
     "name": "stdout",
     "output_type": "stream",
     "text": [
      "{'epoch': 53, 'test_loss': 0.014283135, 'test_accuracy': 0.9996666666666667, 'test_precision': 0.9996669996669997, 'test_recall': 0.9996666666666667, 'test_f1-score': 0.9996666665833334}\n",
      "Epoch 54/80\n"
     ]
    },
    {
     "name": "stderr",
     "output_type": "stream",
     "text": [
      "100%|██████████| 188/188 [00:34<00:00,  5.49it/s]\n"
     ]
    },
    {
     "name": "stdout",
     "output_type": "stream",
     "text": [
      "{'epoch': 54, 'test_loss': 0.0073747835, 'test_accuracy': 1.0, 'test_precision': 1.0, 'test_recall': 1.0, 'test_f1-score': 1.0}\n",
      "Epoch 55/80\n"
     ]
    },
    {
     "name": "stderr",
     "output_type": "stream",
     "text": [
      "100%|██████████| 188/188 [00:33<00:00,  5.57it/s]\n"
     ]
    },
    {
     "name": "stdout",
     "output_type": "stream",
     "text": [
      "{'epoch': 55, 'test_loss': 0.008058932, 'test_accuracy': 1.0, 'test_precision': 1.0, 'test_recall': 1.0, 'test_f1-score': 1.0}\n",
      "Epoch 56/80\n"
     ]
    },
    {
     "name": "stderr",
     "output_type": "stream",
     "text": [
      "100%|██████████| 188/188 [00:33<00:00,  5.55it/s]\n"
     ]
    },
    {
     "name": "stdout",
     "output_type": "stream",
     "text": [
      "{'epoch': 56, 'test_loss': 0.010968684, 'test_accuracy': 1.0, 'test_precision': 1.0, 'test_recall': 1.0, 'test_f1-score': 1.0}\n",
      "Epoch 57/80\n"
     ]
    },
    {
     "name": "stderr",
     "output_type": "stream",
     "text": [
      "100%|██████████| 188/188 [00:35<00:00,  5.33it/s]\n"
     ]
    },
    {
     "name": "stdout",
     "output_type": "stream",
     "text": [
      "{'epoch': 57, 'test_loss': 0.0077054016, 'test_accuracy': 1.0, 'test_precision': 1.0, 'test_recall': 1.0, 'test_f1-score': 1.0}\n",
      "Epoch 58/80\n"
     ]
    },
    {
     "name": "stderr",
     "output_type": "stream",
     "text": [
      "100%|██████████| 188/188 [00:34<00:00,  5.41it/s]\n"
     ]
    },
    {
     "name": "stdout",
     "output_type": "stream",
     "text": [
      "{'epoch': 58, 'test_loss': 0.0047087963, 'test_accuracy': 0.9996666666666667, 'test_precision': 0.9996669996669997, 'test_recall': 0.9996666666666667, 'test_f1-score': 0.9996666665833334}\n",
      "Epoch 59/80\n"
     ]
    },
    {
     "name": "stderr",
     "output_type": "stream",
     "text": [
      "100%|██████████| 188/188 [00:34<00:00,  5.47it/s]\n"
     ]
    },
    {
     "name": "stdout",
     "output_type": "stream",
     "text": [
      "{'epoch': 59, 'test_loss': 0.009192182, 'test_accuracy': 1.0, 'test_precision': 1.0, 'test_recall': 1.0, 'test_f1-score': 1.0}\n",
      "Epoch 60/80\n"
     ]
    },
    {
     "name": "stderr",
     "output_type": "stream",
     "text": [
      "100%|██████████| 188/188 [00:34<00:00,  5.47it/s]\n"
     ]
    },
    {
     "name": "stdout",
     "output_type": "stream",
     "text": [
      "{'epoch': 60, 'test_loss': 0.0053328383, 'test_accuracy': 1.0, 'test_precision': 1.0, 'test_recall': 1.0, 'test_f1-score': 1.0}\n",
      "保存新的最佳模型 ./best_student_model.pth\n",
      "Epoch 61/80\n"
     ]
    },
    {
     "name": "stderr",
     "output_type": "stream",
     "text": [
      "100%|██████████| 188/188 [00:34<00:00,  5.43it/s]\n"
     ]
    },
    {
     "name": "stdout",
     "output_type": "stream",
     "text": [
      "{'epoch': 61, 'test_loss': 0.008318893, 'test_accuracy': 1.0, 'test_precision': 1.0, 'test_recall': 1.0, 'test_f1-score': 1.0}\n",
      "Epoch 62/80\n"
     ]
    },
    {
     "name": "stderr",
     "output_type": "stream",
     "text": [
      "100%|██████████| 188/188 [00:34<00:00,  5.45it/s]\n"
     ]
    },
    {
     "name": "stdout",
     "output_type": "stream",
     "text": [
      "{'epoch': 62, 'test_loss': 0.0065204985, 'test_accuracy': 1.0, 'test_precision': 1.0, 'test_recall': 1.0, 'test_f1-score': 1.0}\n",
      "Epoch 63/80\n"
     ]
    },
    {
     "name": "stderr",
     "output_type": "stream",
     "text": [
      "100%|██████████| 188/188 [00:34<00:00,  5.46it/s]\n"
     ]
    },
    {
     "name": "stdout",
     "output_type": "stream",
     "text": [
      "{'epoch': 63, 'test_loss': 0.0052917725, 'test_accuracy': 0.9996666666666667, 'test_precision': 0.9996669996669997, 'test_recall': 0.9996666666666667, 'test_f1-score': 0.9996666665833334}\n",
      "Epoch 64/80\n"
     ]
    },
    {
     "name": "stderr",
     "output_type": "stream",
     "text": [
      "100%|██████████| 188/188 [00:34<00:00,  5.47it/s]\n"
     ]
    },
    {
     "name": "stdout",
     "output_type": "stream",
     "text": [
      "{'epoch': 64, 'test_loss': 0.0049300133, 'test_accuracy': 1.0, 'test_precision': 1.0, 'test_recall': 1.0, 'test_f1-score': 1.0}\n",
      "保存新的最佳模型 ./best_student_model.pth\n",
      "Epoch 65/80\n"
     ]
    },
    {
     "name": "stderr",
     "output_type": "stream",
     "text": [
      "100%|██████████| 188/188 [00:33<00:00,  5.56it/s]\n"
     ]
    },
    {
     "name": "stdout",
     "output_type": "stream",
     "text": [
      "{'epoch': 65, 'test_loss': 0.00884547, 'test_accuracy': 1.0, 'test_precision': 1.0, 'test_recall': 1.0, 'test_f1-score': 1.0}\n",
      "Epoch 66/80\n"
     ]
    },
    {
     "name": "stderr",
     "output_type": "stream",
     "text": [
      "100%|██████████| 188/188 [00:33<00:00,  5.53it/s]\n"
     ]
    },
    {
     "name": "stdout",
     "output_type": "stream",
     "text": [
      "{'epoch': 66, 'test_loss': 0.008454802, 'test_accuracy': 1.0, 'test_precision': 1.0, 'test_recall': 1.0, 'test_f1-score': 1.0}\n",
      "Epoch 67/80\n"
     ]
    },
    {
     "name": "stderr",
     "output_type": "stream",
     "text": [
      "100%|██████████| 188/188 [00:34<00:00,  5.50it/s]\n"
     ]
    },
    {
     "name": "stdout",
     "output_type": "stream",
     "text": [
      "{'epoch': 67, 'test_loss': 0.009470457, 'test_accuracy': 1.0, 'test_precision': 1.0, 'test_recall': 1.0, 'test_f1-score': 1.0}\n",
      "Epoch 68/80\n"
     ]
    },
    {
     "name": "stderr",
     "output_type": "stream",
     "text": [
      "100%|██████████| 188/188 [00:33<00:00,  5.61it/s]\n"
     ]
    },
    {
     "name": "stdout",
     "output_type": "stream",
     "text": [
      "{'epoch': 68, 'test_loss': 0.0109023815, 'test_accuracy': 0.9996666666666667, 'test_precision': 0.9996669996669997, 'test_recall': 0.9996666666666667, 'test_f1-score': 0.9996666665833334}\n",
      "Epoch 69/80\n"
     ]
    },
    {
     "name": "stderr",
     "output_type": "stream",
     "text": [
      "100%|██████████| 188/188 [00:34<00:00,  5.49it/s]\n"
     ]
    },
    {
     "name": "stdout",
     "output_type": "stream",
     "text": [
      "{'epoch': 69, 'test_loss': 0.006731597, 'test_accuracy': 1.0, 'test_precision': 1.0, 'test_recall': 1.0, 'test_f1-score': 1.0}\n",
      "Epoch 70/80\n"
     ]
    },
    {
     "name": "stderr",
     "output_type": "stream",
     "text": [
      "100%|██████████| 188/188 [00:33<00:00,  5.58it/s]\n"
     ]
    },
    {
     "name": "stdout",
     "output_type": "stream",
     "text": [
      "{'epoch': 70, 'test_loss': 0.0052328943, 'test_accuracy': 0.9993333333333333, 'test_precision': 0.9993346640053226, 'test_recall': 0.9993333333333334, 'test_f1-score': 0.9993333326666659}\n",
      "Epoch 71/80\n"
     ]
    },
    {
     "name": "stderr",
     "output_type": "stream",
     "text": [
      "100%|██████████| 188/188 [00:33<00:00,  5.61it/s]\n"
     ]
    },
    {
     "name": "stdout",
     "output_type": "stream",
     "text": [
      "{'epoch': 71, 'test_loss': 0.004158932, 'test_accuracy': 1.0, 'test_precision': 1.0, 'test_recall': 1.0, 'test_f1-score': 1.0}\n",
      "保存新的最佳模型 ./best_student_model.pth\n",
      "Epoch 72/80\n"
     ]
    },
    {
     "name": "stderr",
     "output_type": "stream",
     "text": [
      "100%|██████████| 188/188 [00:33<00:00,  5.61it/s]\n"
     ]
    },
    {
     "name": "stdout",
     "output_type": "stream",
     "text": [
      "{'epoch': 72, 'test_loss': 0.006996441, 'test_accuracy': 1.0, 'test_precision': 1.0, 'test_recall': 1.0, 'test_f1-score': 1.0}\n",
      "Epoch 73/80\n"
     ]
    },
    {
     "name": "stderr",
     "output_type": "stream",
     "text": [
      "100%|██████████| 188/188 [00:33<00:00,  5.57it/s]\n"
     ]
    },
    {
     "name": "stdout",
     "output_type": "stream",
     "text": [
      "{'epoch': 73, 'test_loss': 0.0057971156, 'test_accuracy': 1.0, 'test_precision': 1.0, 'test_recall': 1.0, 'test_f1-score': 1.0}\n",
      "Epoch 74/80\n"
     ]
    },
    {
     "name": "stderr",
     "output_type": "stream",
     "text": [
      "100%|██████████| 188/188 [00:33<00:00,  5.58it/s]\n"
     ]
    },
    {
     "name": "stdout",
     "output_type": "stream",
     "text": [
      "{'epoch': 74, 'test_loss': 0.0049425834, 'test_accuracy': 0.9996666666666667, 'test_precision': 0.9996669996669997, 'test_recall': 0.9996666666666667, 'test_f1-score': 0.9996666665833334}\n",
      "Epoch 75/80\n"
     ]
    },
    {
     "name": "stderr",
     "output_type": "stream",
     "text": [
      "100%|██████████| 188/188 [00:34<00:00,  5.50it/s]\n"
     ]
    },
    {
     "name": "stdout",
     "output_type": "stream",
     "text": [
      "{'epoch': 75, 'test_loss': 0.006320041, 'test_accuracy': 1.0, 'test_precision': 1.0, 'test_recall': 1.0, 'test_f1-score': 1.0}\n",
      "Epoch 76/80\n"
     ]
    },
    {
     "name": "stderr",
     "output_type": "stream",
     "text": [
      "100%|██████████| 188/188 [00:34<00:00,  5.47it/s]\n"
     ]
    },
    {
     "name": "stdout",
     "output_type": "stream",
     "text": [
      "{'epoch': 76, 'test_loss': 0.006737422, 'test_accuracy': 1.0, 'test_precision': 1.0, 'test_recall': 1.0, 'test_f1-score': 1.0}\n",
      "Epoch 77/80\n"
     ]
    },
    {
     "name": "stderr",
     "output_type": "stream",
     "text": [
      "100%|██████████| 188/188 [00:33<00:00,  5.53it/s]\n"
     ]
    },
    {
     "name": "stdout",
     "output_type": "stream",
     "text": [
      "{'epoch': 77, 'test_loss': 0.009472939, 'test_accuracy': 1.0, 'test_precision': 1.0, 'test_recall': 1.0, 'test_f1-score': 1.0}\n",
      "Epoch 78/80\n"
     ]
    },
    {
     "name": "stderr",
     "output_type": "stream",
     "text": [
      "100%|██████████| 188/188 [00:33<00:00,  5.54it/s]\n"
     ]
    },
    {
     "name": "stdout",
     "output_type": "stream",
     "text": [
      "{'epoch': 78, 'test_loss': 0.00828541, 'test_accuracy': 1.0, 'test_precision': 1.0, 'test_recall': 1.0, 'test_f1-score': 1.0}\n",
      "Epoch 79/80\n"
     ]
    },
    {
     "name": "stderr",
     "output_type": "stream",
     "text": [
      "100%|██████████| 188/188 [00:34<00:00,  5.47it/s]\n"
     ]
    },
    {
     "name": "stdout",
     "output_type": "stream",
     "text": [
      "{'epoch': 79, 'test_loss': 0.008108442, 'test_accuracy': 1.0, 'test_precision': 1.0, 'test_recall': 1.0, 'test_f1-score': 1.0}\n",
      "Epoch 80/80\n"
     ]
    },
    {
     "name": "stderr",
     "output_type": "stream",
     "text": [
      "100%|██████████| 188/188 [00:34<00:00,  5.51it/s]\n"
     ]
    },
    {
     "name": "stdout",
     "output_type": "stream",
     "text": [
      "{'epoch': 80, 'test_loss': 0.0075982264, 'test_accuracy': 1.0, 'test_precision': 1.0, 'test_recall': 1.0, 'test_f1-score': 1.0}\n"
     ]
    }
   ],
   "source": [
    "for epoch in range(1, EPOCHS+1):\n",
    "    \n",
    "    print(f'Epoch {epoch}/{EPOCHS}')  # 打印当前训练轮数\n",
    "    \n",
    "    ## 训练阶段\n",
    "    student_model.train()\n",
    "    for images, labels in tqdm(train_loader):  # 获得一个 batch 的数据和标注\n",
    "        images, labels = images.to(device), labels.to(device)\n",
    "\n",
    "        # 前向传播教师模型\n",
    "        with torch.no_grad():\n",
    "            teacher_outputs = teacher_model(images)\n",
    "\n",
    "        # 前向传播学生模型\n",
    "        student_outputs = student_model(images)\n",
    "\n",
    "        # 计算蒸馏损失\n",
    "        loss = distillation_loss(student_outputs, teacher_outputs, labels, temperature=1, alpha=0.5)\n",
    "\n",
    "        # 反向传播和优化\n",
    "        optimizer.zero_grad()\n",
    "        loss.backward()\n",
    "        optimizer.step()\n",
    "\n",
    "    lr_scheduler.step()\n",
    "\n",
    "    ## 测试阶段\n",
    "    student_model.eval()\n",
    "    log_test = evaluate_testset(student_model)\n",
    "    df_test_log = df_test_log.append(log_test, ignore_index=True)\n",
    "    wandb.log(log_test)\n",
    "    print(log_test)\n",
    "    \n",
    "    if log_test['test_accuracy'] > best_test_accuracy: \n",
    "        # 删除旧的最佳模型文件(如有)\n",
    "        old_best_checkpoint_path = './best_student_model.pth'.format(best_test_accuracy)\n",
    "        if os.path.exists(old_best_checkpoint_path):\n",
    "            os.remove(old_best_checkpoint_path)\n",
    "        # 保存新的最佳模型文件\n",
    "        new_best_checkpoint_path = './best_student_model.pth'.format(log_test['test_accuracy'])\n",
    "        torch.save(student_model, new_best_checkpoint_path)\n",
    "        print('保存新的最佳模型', './best_student_model.pth'.format(best_test_accuracy))\n",
    "        best_test_accuracy = log_test['test_accuracy']\n",
    "        best_test_loss = log_test['test_loss']\n",
    "    elif log_test['test_accuracy'] == best_test_accuracy: \n",
    "        if log_test['test_loss'] < best_test_loss: \n",
    "            # 删除旧的最佳模型文件(如有)\n",
    "            old_best_checkpoint_path = './best_student_model.pth'.format(best_test_accuracy)\n",
    "            if os.path.exists(old_best_checkpoint_path):\n",
    "                os.remove(old_best_checkpoint_path)\n",
    "            # 保存新的最佳模型文件\n",
    "            new_best_checkpoint_path = './best_student_model.pth'.format(log_test['test_accuracy'])\n",
    "            torch.save(student_model, new_best_checkpoint_path)\n",
    "            print('保存新的最佳模型', './best_student_model.pth'.format(best_test_accuracy))\n",
    "            best_test_accuracy = log_test['test_accuracy']\n",
    "            best_test_loss = log_test['test_loss']\n",
    "        \n",
    "# 保存学生模型\n",
    "torch.save(student_model, 'student_model.pth')"
   ]
  },
  {
   "cell_type": "code",
   "execution_count": 15,
   "id": "9637b6d9",
   "metadata": {},
   "outputs": [
    {
     "name": "stdout",
     "output_type": "stream",
     "text": [
      "{'epoch': 80, 'test_loss': 0.0075982264, 'test_accuracy': 1.0, 'test_precision': 1.0, 'test_recall': 1.0, 'test_f1-score': 1.0}\n"
     ]
    }
   ],
   "source": [
    "print(evaluate_testset(student_model))"
   ]
  },
  {
   "cell_type": "code",
   "execution_count": 16,
   "id": "fb7ae6ac-2709-4d33-832f-3ebfa3cfa91e",
   "metadata": {},
   "outputs": [
    {
     "name": "stdout",
     "output_type": "stream",
     "text": [
      "{'epoch': 80, 'test_loss': 0.00052231346, 'test_accuracy': 1.0, 'test_precision': 1.0, 'test_recall': 1.0, 'test_f1-score': 1.0}\n"
     ]
    }
   ],
   "source": [
    "print(evaluate_testset(teacher_model))"
   ]
  },
  {
   "cell_type": "code",
   "execution_count": 17,
   "id": "9374ca50-f3b4-4e08-b544-de78a1c11484",
   "metadata": {},
   "outputs": [
    {
     "name": "stdout",
     "output_type": "stream",
     "text": [
      "{'epoch': 80, 'test_loss': 0.004158932, 'test_accuracy': 1.0, 'test_precision': 1.0, 'test_recall': 1.0, 'test_f1-score': 1.0}\n"
     ]
    }
   ],
   "source": [
    "# 载入最佳模型作为当前模型\n",
    "best_student_model = torch.load('./best_student_model.pth')\n",
    "best_student_model.eval()\n",
    "print(evaluate_testset(best_student_model))"
   ]
  },
  {
   "cell_type": "code",
   "execution_count": null,
   "id": "354468a7-d927-40a8-9cac-3832f75b9e3a",
   "metadata": {},
   "outputs": [],
   "source": []
  }
 ],
 "metadata": {
  "kernelspec": {
   "display_name": "Python 3 (ipykernel)",
   "language": "python",
   "name": "python3"
  },
  "language_info": {
   "codemirror_mode": {
    "name": "ipython",
    "version": 3
   },
   "file_extension": ".py",
   "mimetype": "text/x-python",
   "name": "python",
   "nbconvert_exporter": "python",
   "pygments_lexer": "ipython3",
   "version": "3.7.10"
  }
 },
 "nbformat": 4,
 "nbformat_minor": 5
}
