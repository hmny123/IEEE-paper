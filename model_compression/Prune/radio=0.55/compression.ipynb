{
 "cells": [
  {
   "cell_type": "code",
   "execution_count": 1,
   "id": "e780aafa",
   "metadata": {},
   "outputs": [],
   "source": [
    "# 导入工具包\n",
    "import time\n",
    "import os\n",
    "from tqdm import tqdm\n",
    "\n",
    "import pandas as pd\n",
    "import numpy as np\n",
    "\n",
    "import torch\n",
    "import torchvision\n",
    "import torch.nn as nn\n",
    "import torch.nn.functional as F\n",
    "\n",
    "import matplotlib.pyplot as plt\n",
    "%matplotlib inline\n",
    "\n",
    "# 忽略烦人的红色提示\n",
    "import warnings\n",
    "warnings.filterwarnings(\"ignore\")"
   ]
  },
  {
   "cell_type": "code",
   "execution_count": 2,
   "id": "c0f6b130",
   "metadata": {},
   "outputs": [
    {
     "name": "stdout",
     "output_type": "stream",
     "text": [
      "device cuda:0\n"
     ]
    }
   ],
   "source": [
    "# 获取计算硬件\n",
    "# 有 GPU 就用 GPU，没有就用 CPU\n",
    "device = torch.device('cuda:0' if torch.cuda.is_available() else 'cpu')\n",
    "print('device', device)"
   ]
  },
  {
   "cell_type": "code",
   "execution_count": 3,
   "id": "e42ef539",
   "metadata": {},
   "outputs": [],
   "source": [
    "#图像预处理\n",
    "from torchvision import transforms\n",
    "\n",
    "# 训练集图像预处理：缩放裁剪、图像增强、转 Tensor、归一化\n",
    "train_transform = transforms.Compose([transforms.RandomResizedCrop(224),\n",
    "                                      transforms.RandomHorizontalFlip(),\n",
    "                                      transforms.ToTensor(),\n",
    "                                      transforms.Normalize([0.485, 0.456, 0.406], [0.229, 0.224, 0.225])\n",
    "                                     ])\n",
    "\n",
    "# 测试集图像预处理-RCTN：缩放、裁剪、转 Tensor、归一化\n",
    "test_transform = transforms.Compose([transforms.Resize(256),\n",
    "                                     transforms.CenterCrop(224),\n",
    "                                     transforms.ToTensor(),\n",
    "                                     transforms.Normalize(\n",
    "                                         mean=[0.485, 0.456, 0.406], \n",
    "                                         std=[0.229, 0.224, 0.225])\n",
    "                                    ])"
   ]
  },
  {
   "cell_type": "code",
   "execution_count": 4,
   "id": "3f88f65e",
   "metadata": {},
   "outputs": [
    {
     "name": "stdout",
     "output_type": "stream",
     "text": [
      "训练集路径 ../../data/lungImageSet_split/train\n",
      "测试集路径 ../../data/lungImageSet_split/test\n",
      "训练集图像数量 12000\n",
      "类别个数 3\n",
      "各类别名称 ['lung_aca', 'lung_n', 'lung_scc']\n",
      "测试集图像数量 3000\n",
      "类别个数 3\n",
      "各类别名称 ['lung_aca', 'lung_n', 'lung_scc']\n"
     ]
    }
   ],
   "source": [
    "# 数据集文件夹路径\n",
    "dataset_dir = '../../data/lungImageSet_split'\n",
    "train_path = os.path.join(dataset_dir, 'train')\n",
    "test_path = os.path.join(dataset_dir, 'test')\n",
    "print('训练集路径', train_path)\n",
    "print('测试集路径', test_path)\n",
    "\n",
    "from torchvision import datasets\n",
    "# 载入训练集\n",
    "train_dataset = datasets.ImageFolder(train_path, train_transform)\n",
    "# 载入测试集\n",
    "test_dataset = datasets.ImageFolder(test_path, test_transform)\n",
    "\n",
    "print('训练集图像数量', len(train_dataset))\n",
    "print('类别个数', len(train_dataset.classes))\n",
    "print('各类别名称', train_dataset.classes)\n",
    "print('测试集图像数量', len(test_dataset))\n",
    "print('类别个数', len(test_dataset.classes))\n",
    "print('各类别名称', test_dataset.classes)"
   ]
  },
  {
   "cell_type": "code",
   "execution_count": 5,
   "id": "c81cba5a",
   "metadata": {},
   "outputs": [],
   "source": [
    "# 各类别名称\n",
    "class_names = train_dataset.classes\n",
    "n_class = len(class_names)\n",
    "# 映射关系：类别 到 索引号\n",
    "train_dataset.class_to_idx\n",
    "# 映射关系：索引号 到 类别\n",
    "idx_to_labels = {y:x for x,y in train_dataset.class_to_idx.items()}"
   ]
  },
  {
   "cell_type": "code",
   "execution_count": 6,
   "id": "4615fb4c",
   "metadata": {},
   "outputs": [
    {
     "data": {
      "text/plain": [
       "{0: 'lung_aca', 1: 'lung_n', 2: 'lung_scc'}"
      ]
     },
     "execution_count": 6,
     "metadata": {},
     "output_type": "execute_result"
    }
   ],
   "source": [
    "idx_to_labels"
   ]
  },
  {
   "cell_type": "code",
   "execution_count": 7,
   "id": "82ff4a28",
   "metadata": {},
   "outputs": [],
   "source": [
    "#定义数据加载器\n",
    "from torch.utils.data import DataLoader\n",
    "\n",
    "BATCH_SIZE = 64\n",
    "\n",
    "# 训练集的数据加载器\n",
    "train_loader = DataLoader(train_dataset,\n",
    "                          batch_size=BATCH_SIZE,\n",
    "                          shuffle=True,\n",
    "                          num_workers=4\n",
    "                         )\n",
    "\n",
    "# 测试集的数据加载器\n",
    "test_loader = DataLoader(test_dataset,\n",
    "                         batch_size=BATCH_SIZE,\n",
    "                         shuffle=False,\n",
    "                         num_workers=4\n",
    "                        )"
   ]
  },
  {
   "cell_type": "code",
   "execution_count": 8,
   "id": "0bceabe9",
   "metadata": {},
   "outputs": [],
   "source": [
    "# 导入训练所需工具包\n",
    "from torchvision import models\n",
    "import torch.optim as optim\n",
    "from torch.optim import lr_scheduler"
   ]
  },
  {
   "cell_type": "code",
   "execution_count": 9,
   "id": "e451e354",
   "metadata": {},
   "outputs": [],
   "source": [
    "from sklearn.metrics import precision_score\n",
    "from sklearn.metrics import recall_score\n",
    "from sklearn.metrics import accuracy_score\n",
    "from sklearn.metrics import f1_score\n",
    "from sklearn.metrics import roc_auc_score"
   ]
  },
  {
   "cell_type": "code",
   "execution_count": 10,
   "id": "2530302d",
   "metadata": {},
   "outputs": [],
   "source": [
    "def evaluate_testset():\n",
    "    # 在整个测试集上评估，返回分类评估指标日志\n",
    "    \n",
    "    # 交叉熵损失函数\n",
    "    criterion = nn.CrossEntropyLoss() \n",
    "    loss_list = []\n",
    "    labels_list = []\n",
    "    preds_list = []\n",
    "    \n",
    "    with torch.no_grad():\n",
    "        for images, labels in test_loader: # 生成一个 batch 的数据和标注\n",
    "            images = images.to(device)\n",
    "            labels = labels.to(device)\n",
    "            outputs = model(images) # 输入模型，执行前向预测\n",
    "            # outputs = outputs.logits\n",
    "            # 获取整个测试集的标签类别和预测类别\n",
    "            _, preds = torch.max(outputs, 1) # 获得当前 batch 所有图像的预测类别\n",
    "            preds = preds.cpu().numpy()\n",
    "            loss = criterion(outputs, labels) # 由 logit，计算当前 batch 中，每个样本的平均交叉熵损失函数值\n",
    "            loss = loss.detach().cpu().numpy()\n",
    "            outputs = outputs.detach().cpu().numpy()\n",
    "            labels = labels.detach().cpu().numpy()\n",
    "\n",
    "            loss_list.append(loss)\n",
    "            labels_list.extend(labels)\n",
    "            preds_list.extend(preds)\n",
    "        \n",
    "    log_test = {}\n",
    "    \n",
    "    # 计算分类评估指标\n",
    "    log_test['test_loss'] = np.mean(loss)\n",
    "    log_test['test_accuracy'] = accuracy_score(labels_list, preds_list)\n",
    "    log_test['test_precision'] = precision_score(labels_list, preds_list, average='macro')\n",
    "    log_test['test_recall'] = recall_score(labels_list, preds_list, average='macro')\n",
    "    log_test['test_f1-score'] = f1_score(labels_list, preds_list, average='macro')\n",
    "    \n",
    "    return log_test"
   ]
  },
  {
   "cell_type": "code",
   "execution_count": 11,
   "id": "db4a58c9",
   "metadata": {
    "scrolled": true
   },
   "outputs": [
    {
     "name": "stdout",
     "output_type": "stream",
     "text": [
      "{'test_loss': 7.575038e-05, 'test_accuracy': 1.0, 'test_precision': 1.0, 'test_recall': 1.0, 'test_f1-score': 1.0}\n"
     ]
    }
   ],
   "source": [
    "# 载入最佳模型作为当前模型\n",
    "model = torch.load('./best-1.000.pth')\n",
    "model.eval()\n",
    "print(evaluate_testset())"
   ]
  },
  {
   "cell_type": "code",
   "execution_count": 12,
   "id": "a628fb4c",
   "metadata": {},
   "outputs": [],
   "source": [
    "# from torchsummary import summary\n",
    "# summary(model, input_size=(3, 32, 32),batch_size=256)"
   ]
  },
  {
   "cell_type": "code",
   "execution_count": 13,
   "id": "f15842de-19c9-4a69-9601-3f3592fd0c0a",
   "metadata": {},
   "outputs": [],
   "source": [
    "# pip install wandb"
   ]
  },
  {
   "cell_type": "code",
   "execution_count": 14,
   "id": "1b5e0661",
   "metadata": {},
   "outputs": [],
   "source": [
    "import torch.nn.utils.prune as prune\n",
    "# 定义剪枝率\n",
    "prune_ratio = 0.5\n",
    "\n",
    "# 完整训练代码：测试不同的比例R，对分类准确率、攻击成功率的影响\n",
    "R = [0.05,0.075,0.1,0.2,0.3,0.4,0.5,0.515,0.53,0.545,0.56,0.58,0.6,0.7,0.8,0.9]\n",
    "accuracy_save = []\n",
    "loss_save = []\n",
    "precision_save = []\n",
    "recall_save = []\n",
    "f1_score_save = []\n",
    "\n",
    "for i in range(0,len(R)):\n",
    "    prune_ratio = R[i]\n",
    "    # 载入最佳模型作为当前模型\n",
    "    model = torch.load('./best-1.000.pth')\n",
    "    # 对 ResNet50 的每个卷积层和线性层进行剪枝\n",
    "    for name, module in model.named_modules():\n",
    "        if isinstance(module, torch.nn.Conv2d):\n",
    "            prune.l1_unstructured(module, name='weight', amount=prune_ratio)\n",
    "            prune.remove(module, 'weight')  # 移除以恢复原始权重\n",
    "        elif isinstance(module, torch.nn.Linear):\n",
    "            prune.l1_unstructured(module, name='weight', amount=prune_ratio)\n",
    "            prune.remove(module, 'weight')  # 移除以恢复原始权重\n",
    "    model.eval()\n",
    "    log_test = evaluate_testset()\n",
    "    accuracy_save.append(log_test['test_accuracy'])\n",
    "    loss_save.append(log_test['test_loss'])\n",
    "    precision_save.append(log_test['test_precision'])\n",
    "    recall_save.append(log_test['test_recall'])\n",
    "    f1_score_save.append(log_test['test_f1-score'])\n",
    "    \n",
    "# # 保存剪枝后的模型\n",
    "# torch.save(model, 'pruned_resnet50.pth')\n",
    "\n",
    "# # 评估剪枝后的模型\n",
    "# model.eval()\n",
    "# print(evaluate_testset())"
   ]
  },
  {
   "cell_type": "code",
   "execution_count": 15,
   "id": "3d45130b-4895-4cb3-8a5a-50797e5f801c",
   "metadata": {},
   "outputs": [
    {
     "data": {
      "image/png": "[encoded data removed]",
      "text/plain": [
       "<Figure size 432x288 with 1 Axes>"
      ]
     },
     "metadata": {
      "needs_background": "light"
     },
     "output_type": "display_data"
    },
    {
     "data": {
      "image/png": "[encoded data removed]",
      "text/plain": [
       "<Figure size 432x288 with 1 Axes>"
      ]
     },
     "metadata": {
      "needs_background": "light"
     },
     "output_type": "display_data"
    },
    {
     "data": {
      "image/png": "[encoded data removed]",
      "text/plain": [
       "<Figure size 432x288 with 1 Axes>"
      ]
     },
     "metadata": {
      "needs_background": "light"
     },
     "output_type": "display_data"
    },
    {
     "data": {
      "image/png": "[encoded data removed]",
      "text/plain": [
       "<Figure size 432x288 with 1 Axes>"
      ]
     },
     "metadata": {
      "needs_background": "light"
     },
     "output_type": "display_data"
    },
    {
     "data": {
      "image/png": "[encoded data removed]",
      "text/plain": [
       "<Figure size 432x288 with 1 Axes>"
      ]
     },
     "metadata": {
      "needs_background": "light"
     },
     "output_type": "display_data"
    }
   ],
   "source": [
    "import matplotlib.pyplot as plt\n",
    "plt.plot(R, accuracy_save, '-o')\n",
    "plt.title('Model accuracy for different prune_ratio')\n",
    "plt.ylabel('Accuarcy')\n",
    "plt.xlabel('prune_ratio')\n",
    "plt.show()\n",
    "\n",
    "plt.plot(R, loss_save, '-o')\n",
    "plt.title('Model loss for different prune_ratio')\n",
    "plt.ylabel('loss')\n",
    "plt.xlabel('prune_ratio')\n",
    "plt.show()\n",
    "\n",
    "plt.plot(R, precision_save, '-o')\n",
    "plt.title('Model precision for different prune_ratio')\n",
    "plt.ylabel('precision')\n",
    "plt.xlabel('prune_ratio')\n",
    "plt.show()\n",
    "\n",
    "plt.plot(R, recall_save, '-o')\n",
    "plt.title('Model recall for different prune_ratio')\n",
    "plt.ylabel('recall')\n",
    "plt.xlabel('prune_ratio')\n",
    "plt.show()\n",
    "\n",
    "plt.plot(R, f1_score_save, '-o')\n",
    "plt.title('Model f1_score for different prune_ratio')\n",
    "plt.ylabel('f1_score')\n",
    "plt.xlabel('prune_ratio')\n",
    "plt.show()"
   ]
  },
  {
   "cell_type": "code",
   "execution_count": 16,
   "id": "811eb2d6-2782-4c09-93e0-c0eef01f4233",
   "metadata": {},
   "outputs": [
    {
     "name": "stdout",
     "output_type": "stream",
     "text": [
      "[1.0, 1.0, 1.0, 0.9983333333333333, 0.9976666666666667, 0.9903333333333333, 0.9743333333333334, 0.9853333333333333, 0.9653333333333334, 0.9626666666666667, 0.9136666666666666, 0.9273333333333333, 0.8803333333333333, 0.8196666666666667, 0.532, 0.3333333333333333]\n",
      "[7.5420765e-05, 6.981732e-05, 7.1048555e-05, 5.9685808e-05, 0.00017323195, 0.00021742497, 0.0031757485, 0.006021244, 0.0030844714, 0.0036849945, 0.0019149194, 0.022595167, 0.05196352, 0.32560533, 0.8809403, 1.2620946]\n",
      "[1.0, 1.0, 1.0, 0.9983416252072969, 0.9976828864614365, 0.9906057661159702, 0.9761683689260291, 0.9859514687100894, 0.9685990338164251, 0.9664268585131893, 0.9314270585120465, 0.9393590682428427, 0.903869815806759, 0.8320145942734257, 0.6926977309538548, 0.1111111111111111]\n",
      "[1.0, 1.0, 1.0, 0.9983333333333334, 0.9976666666666666, 0.9903333333333334, 0.9743333333333334, 0.9853333333333333, 0.9653333333333333, 0.9626666666666667, 0.9136666666666667, 0.9273333333333333, 0.8803333333333333, 0.8196666666666667, 0.5319999999999999, 0.3333333333333333]\n",
      "[1.0, 1.0, 1.0, 0.9983333229166016, 0.9976666380829832, 0.9903313004892613, 0.97429523244162, 0.9853262312292482, 0.9652393405100725, 0.9625492210237973, 0.9121941404505577, 0.9265232521887139, 0.8772893420751858, 0.8134320014715516, 0.42195295245683373, 0.16666666666666666]\n"
     ]
    }
   ],
   "source": [
    "print(accuracy_save)\n",
    "print(loss_save)\n",
    "print(precision_save)\n",
    "print(recall_save)\n",
    "print(f1_score_save)"
   ]
  },
  {
   "cell_type": "code",
   "execution_count": 19,
   "id": "b93c87c5-1a99-469e-983c-ab3d9577b03c",
   "metadata": {},
   "outputs": [
    {
     "name": "stdout",
     "output_type": "stream",
     "text": [
      "{'test_loss': 0.00500649, 'test_accuracy': 0.9586666666666667, 'test_precision': 0.963226571767497, 'test_recall': 0.9586666666666667, 'test_f1-score': 0.9585071682213094}\n"
     ]
    }
   ],
   "source": [
    "model = torch.load('./best-1.000.pth')\n",
    "# 对 ResNet50 的每个卷积层和线性层进行剪枝\n",
    "for name, module in model.named_modules():\n",
    "    if isinstance(module, torch.nn.Conv2d):\n",
    "        prune.l1_unstructured(module, name='weight', amount=0.55)\n",
    "        prune.remove(module, 'weight')  # 移除以恢复原始权重\n",
    "    elif isinstance(module, torch.nn.Linear):\n",
    "        prune.l1_unstructured(module, name='weight', amount=0.55)\n",
    "        prune.remove(module, 'weight')  # 移除以恢复原始权重\n",
    "model.eval()\n",
    "print(evaluate_testset())"
   ]
  },
  {
   "cell_type": "code",
   "execution_count": 20,
   "id": "fab349e5-366f-492b-a4ae-25c5c6698d78",
   "metadata": {},
   "outputs": [],
   "source": [
    "# 保存剪枝后的模型\n",
    "torch.save(model, 'pruned_resnet50.pth')"
   ]
  },
  {
   "cell_type": "code",
   "execution_count": 14,
   "id": "12395f8e-f642-4a65-a029-ce72ac24edc2",
   "metadata": {},
   "outputs": [],
   "source": [
    "# pip install torchsummary"
   ]
  },
  {
   "cell_type": "code",
   "execution_count": 17,
   "id": "c354409b",
   "metadata": {},
   "outputs": [],
   "source": [
    "# from torchsummary import summary\n",
    "# summary(model, input_size=(3, 32, 32),batch_size=256)"
   ]
  },
  {
   "cell_type": "code",
   "execution_count": 28,
   "id": "cccdeb17-2a42-4a6b-8b84-b59fb31588f5",
   "metadata": {},
   "outputs": [],
   "source": [
    "from torch.optim import lr_scheduler\n",
    "# 交叉熵损失函数\n",
    "criterion = nn.CrossEntropyLoss()\n",
    "\n",
    "# 定义优化器\n",
    "optimizer = optim.Adam(model.parameters(), lr=0.001)  # 将学习率设置为原来的 1/10\n",
    "\n",
    "# 训练轮次 Epoch\n",
    "EPOCHS = 5\n",
    "batch_idx = 0\n",
    "# 学习率降低策略\n",
    "lr_scheduler = lr_scheduler.StepLR(optimizer, step_size=5, gamma=0.5)"
   ]
  },
  {
   "cell_type": "code",
   "execution_count": 29,
   "id": "1fd09fac-921f-424a-b8e4-d8a80f1e7bc0",
   "metadata": {},
   "outputs": [],
   "source": [
    "epoch = 0\n",
    "batch_idx = 0\n",
    "best_test_accuracy = 0\n",
    "best_test_loss = 10000"
   ]
  },
  {
   "cell_type": "code",
   "execution_count": 30,
   "id": "71b929b7-72cc-4f3e-8601-fee77259b892",
   "metadata": {},
   "outputs": [],
   "source": [
    "def train_one_batch(images, labels):\n",
    "    # 运行一个 batch 的训练，返回当前 batch 的训练日志\n",
    "    \n",
    "    # 获得一个 batch 的数据和标注\n",
    "    images = images.to(device)\n",
    "    labels = labels.to(device)\n",
    "    \n",
    "    outputs = model(images) # 输入模型，执行前向预测\n",
    "    loss = criterion(outputs, labels) # 计算当前 batch 中，每个样本的平均交叉熵损失函数值\n",
    "    \n",
    "    # 优化更新权重\n",
    "    optimizer.zero_grad()\n",
    "    loss.backward()\n",
    "    optimizer.step()\n",
    "    \n",
    "    # 获取当前 batch 的标签类别和预测类别\n",
    "    _, preds = torch.max(outputs, 1) # 获得当前 batch 所有图像的预测类别\n",
    "    preds = preds.cpu().numpy()\n",
    "    loss = loss.detach().cpu().numpy()\n",
    "    outputs = outputs.detach().cpu().numpy()\n",
    "    labels = labels.detach().cpu().numpy()\n",
    "    \n",
    "    log_train = {}\n",
    "    log_train['epoch'] = epoch\n",
    "    log_train['batch'] = batch_idx\n",
    "    # 计算分类评估指标 用于动态监测loss与accuracy\n",
    "    log_train['train_loss'] = loss\n",
    "    log_train['train_accuracy'] = accuracy_score(labels, preds)\n",
    "    # log_train['train_precision'] = precision_score(labels, preds, average='macro')\n",
    "    # log_train['train_recall'] = recall_score(labels, preds, average='macro')\n",
    "    # log_train['train_f1-score'] = f1_score(labels, preds, average='macro')\n",
    "    \n",
    "    return log_train"
   ]
  },
  {
   "cell_type": "code",
   "execution_count": 31,
   "id": "d5b4570a-9e4d-41f6-8b9d-b31b0ff42dcf",
   "metadata": {},
   "outputs": [],
   "source": [
    "# 训练日志-训练集\n",
    "df_train_log = pd.DataFrame()\n",
    "log_train = {}\n",
    "log_train['epoch'] = 0\n",
    "log_train['batch'] = 0\n",
    "images, labels = next(iter(train_loader))\n",
    "log_train.update(train_one_batch(images, labels))\n",
    "df_train_log = df_train_log.append(log_train, ignore_index=True)"
   ]
  },
  {
   "cell_type": "code",
   "execution_count": 32,
   "id": "b7455d03-7bce-446f-85f2-5944569806b9",
   "metadata": {},
   "outputs": [],
   "source": [
    "# 训练日志-测试集\n",
    "df_test_log = pd.DataFrame()\n",
    "log_test = {}\n",
    "log_test['epoch'] = 0\n",
    "log_test.update(evaluate_testset())\n",
    "df_test_log = df_test_log.append(log_test, ignore_index=True)"
   ]
  },
  {
   "cell_type": "code",
   "execution_count": 33,
   "id": "9d59ca4c",
   "metadata": {},
   "outputs": [
    {
     "name": "stdout",
     "output_type": "stream",
     "text": [
      "Epoch 1/5\n"
     ]
    },
    {
     "name": "stderr",
     "output_type": "stream",
     "text": [
      "100%|██████████| 188/188 [00:38<00:00,  4.92it/s]\n"
     ]
    },
    {
     "name": "stdout",
     "output_type": "stream",
     "text": [
      "{'test_loss': 0.0012905959, 'test_accuracy': 0.9993333333333333, 'test_precision': 0.9993346640053226, 'test_recall': 0.9993333333333334, 'test_f1-score': 0.9993333326666659}\n",
      "保存新的最佳模型 ./fine_tuned_pruned_resnet50-0.000.pth\n",
      "Epoch 2/5\n"
     ]
    },
    {
     "name": "stderr",
     "output_type": "stream",
     "text": [
      "100%|██████████| 188/188 [00:38<00:00,  4.93it/s]\n"
     ]
    },
    {
     "name": "stdout",
     "output_type": "stream",
     "text": [
      "{'test_loss': 0.0012217328, 'test_accuracy': 0.9993333333333333, 'test_precision': 0.9993346640053226, 'test_recall': 0.9993333333333334, 'test_f1-score': 0.9993333326666659}\n",
      "保存新的最佳模型 ./fine_tuned_pruned_resnet50-0.999.pth\n",
      "Epoch 3/5\n"
     ]
    },
    {
     "name": "stderr",
     "output_type": "stream",
     "text": [
      "100%|██████████| 188/188 [00:38<00:00,  4.91it/s]\n"
     ]
    },
    {
     "name": "stdout",
     "output_type": "stream",
     "text": [
      "{'test_loss': 0.0009464224, 'test_accuracy': 0.9993333333333333, 'test_precision': 0.9993346640053226, 'test_recall': 0.9993333333333334, 'test_f1-score': 0.9993333326666659}\n",
      "保存新的最佳模型 ./fine_tuned_pruned_resnet50-0.999.pth\n",
      "Epoch 4/5\n"
     ]
    },
    {
     "name": "stderr",
     "output_type": "stream",
     "text": [
      "100%|██████████| 188/188 [00:38<00:00,  4.94it/s]\n"
     ]
    },
    {
     "name": "stdout",
     "output_type": "stream",
     "text": [
      "{'test_loss': 0.0012235055, 'test_accuracy': 0.9993333333333333, 'test_precision': 0.9993346640053226, 'test_recall': 0.9993333333333334, 'test_f1-score': 0.9993333326666659}\n",
      "Epoch 5/5\n"
     ]
    },
    {
     "name": "stderr",
     "output_type": "stream",
     "text": [
      "100%|██████████| 188/188 [00:37<00:00,  4.97it/s]\n"
     ]
    },
    {
     "name": "stdout",
     "output_type": "stream",
     "text": [
      "{'test_loss': 0.0014658093, 'test_accuracy': 0.9993333333333333, 'test_precision': 0.9993346640053226, 'test_recall': 0.9993333333333334, 'test_f1-score': 0.9993333326666659}\n"
     ]
    }
   ],
   "source": [
    "# 载入剪枝后的模型作为当前模型\n",
    "model = torch.load('pruned_resnet50.pth')\n",
    "model = model.to(device)\n",
    "\n",
    "# 微调模型\n",
    "for epoch in range(1, EPOCHS+1):\n",
    "    \n",
    "    print(f'Epoch {epoch}/{EPOCHS}')  # 打印当前训练轮数\n",
    "    \n",
    "    ## 训练阶段\n",
    "    model.train()\n",
    "    for images, labels in tqdm(train_loader):  # 获得一个 batch 的数据和标注\n",
    "        batch_idx += 1\n",
    "        log_train = train_one_batch(images, labels)  # 一次训练一个batch\n",
    "        df_train_log = df_train_log.append(log_train, ignore_index=True)\n",
    "        \n",
    "    lr_scheduler.step()\n",
    "\n",
    "    ## 测试阶段\n",
    "    model.eval()\n",
    "    log_test = evaluate_testset()\n",
    "    print(log_test)\n",
    "    df_test_log = df_test_log.append(log_test, ignore_index=True)\n",
    "    \n",
    "    if log_test['test_accuracy'] >= best_test_accuracy: \n",
    "        if log_test['test_loss'] < best_test_loss: \n",
    "            # 删除旧的最佳模型文件(如有)\n",
    "            old_best_checkpoint_path = './fine_tuned_pruned_resnet50-{:.3f}.pth'.format(best_test_accuracy)\n",
    "            if os.path.exists(old_best_checkpoint_path):\n",
    "                os.remove(old_best_checkpoint_path)\n",
    "            # 保存新的最佳模型文件\n",
    "            new_best_checkpoint_path = './fine_tuned_pruned_resnet50-{:.3f}.pth'.format(log_test['test_accuracy'])\n",
    "            torch.save(model, new_best_checkpoint_path)\n",
    "            print('保存新的最佳模型', './fine_tuned_pruned_resnet50-{:.3f}.pth'.format(best_test_accuracy))\n",
    "            best_test_accuracy = log_test['test_accuracy']\n",
    "            best_test_loss = log_test['test_loss']\n",
    "\n",
    "# # 保存微调后的模型\n",
    "# torch.save(model, 'fine_tuned_pruned_resnet50-{:.3f}.pth')\n",
    "\n",
    "# # 评估微调后的模型\n",
    "# model.eval()\n",
    "# print(evaluate_testset())"
   ]
  },
  {
   "cell_type": "code",
   "execution_count": 35,
   "id": "22ebbfca",
   "metadata": {},
   "outputs": [
    {
     "name": "stdout",
     "output_type": "stream",
     "text": [
      "{'test_loss': 0.0009464224, 'test_accuracy': 0.9993333333333333, 'test_precision': 0.9993346640053226, 'test_recall': 0.9993333333333334, 'test_f1-score': 0.9993333326666659}\n"
     ]
    }
   ],
   "source": [
    "# 评估微调后的模型\n",
    "model = torch.load('fine_tuned_pruned_resnet50-0.999.pth')\n",
    "model.eval()\n",
    "print(evaluate_testset())"
   ]
  },
  {
   "cell_type": "code",
   "execution_count": null,
   "id": "ba8fbefa-3962-4e8e-9ee7-861d92ff712c",
   "metadata": {},
   "outputs": [],
   "source": []
  }
 ],
 "metadata": {
  "kernelspec": {
   "display_name": "Python 3 (ipykernel)",
   "language": "python",
   "name": "python3"
  },
  "language_info": {
   "codemirror_mode": {
    "name": "ipython",
    "version": 3
   },
   "file_extension": ".py",
   "mimetype": "text/x-python",
   "name": "python",
   "nbconvert_exporter": "python",
   "pygments_lexer": "ipython3",
   "version": "3.10.9"
  }
 },
 "nbformat": 4,
 "nbformat_minor": 5
}
